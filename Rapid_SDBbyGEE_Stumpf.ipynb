{
  "nbformat": 4,
  "nbformat_minor": 0,
  "metadata": {
    "colab": {
      "name": "Automatic/Rapid_SatelliteDerivedBathymetrybyGEE_StumpfAlgorithm.ipynb",
      "provenance": [],
      "collapsed_sections": []
    },
    "kernelspec": {
      "name": "python3",
      "display_name": "Python 3"
    },
    "language_info": {
      "name": "python"
    }
  },
  "cells": [
    {
      "cell_type": "markdown",
      "source": [
        "**Satellite Derived Bathymetry (SDB) without sample elevation data by google earth engine**\n",
        "\n",
        "**Accuracy dependent on your coefficient!!!**\n",
        "\n",
        "Thepchai Srinoi, Phisan Santitamnont\n",
        "\n",
        "Department of Survey Engineering\n",
        "\n",
        "Chulalongkorn University"
      ],
      "metadata": {
        "id": "_q-ZjFcdmGHY"
      }
    },
    {
      "cell_type": "markdown",
      "source": [
        "Additional reading for improve this code ...\n",
        "\n",
        "https://custom-scripts.sentinel-hub.com/custom-scripts/sentinel-2/satellite_derived_bathymetry_mapping-sdbm/"
      ],
      "metadata": {
        "id": "pSaZFpfZnnYH"
      }
    },
    {
      "cell_type": "markdown",
      "source": [
        "Prepared your library ...."
      ],
      "metadata": {
        "id": "XzOjXrTxmefm"
      }
    },
    {
      "cell_type": "code",
      "execution_count": 1,
      "metadata": {
        "id": "pdlcDYLqcSPY"
      },
      "outputs": [],
      "source": [
        "import os\n",
        "import ee\n",
        "import numpy as np\n",
        "import matplotlib as mpl\n",
        "import matplotlib.pyplot as plt\n",
        "import pandas as pd\n",
        "import folium as fo\n",
        "import folium\n",
        "import math as m\n",
        "import math"
      ]
    },
    {
      "cell_type": "markdown",
      "source": [
        "Authenticate to GEE servers .... Generate Token first !!"
      ],
      "metadata": {
        "id": "lWB7XLf7mhz7"
      }
    },
    {
      "cell_type": "code",
      "source": [
        "# Authenticate to the Earth Engine servers\n",
        "ee.Authenticate()\n",
        "# Initialize the API\n",
        "ee.Initialize()"
      ],
      "metadata": {
        "colab": {
          "base_uri": "https://localhost:8080/"
        },
        "id": "k2BW4Wazcc4u",
        "outputId": "1c3dc655-7a82-4ae5-ad58-ca5ec11700c9"
      },
      "execution_count": 2,
      "outputs": [
        {
          "output_type": "stream",
          "name": "stdout",
          "text": [
            "To authorize access needed by Earth Engine, open the following URL in a web browser and follow the instructions. If the web browser does not start automatically, please manually browse the URL below.\n",
            "\n",
            "    https://code.earthengine.google.com/client-auth?scopes=https%3A//www.googleapis.com/auth/earthengine%20https%3A//www.googleapis.com/auth/devstorage.full_control&request_id=LSpxACFQIzoznjorAH9mHvL5cNeQMUjQQzge4jyId-4&tc=Y6xchVJYOiMAnUJPDmF1VdBAhlmAylFYXWAX7FGlv0o&cc=cfZXoWzHFevNKAKZT9cOpl5OXo42zdzQgVbSDoRyF4U\n",
            "\n",
            "The authorization workflow will generate a code, which you should paste in the box below. \n",
            "Enter verification code: 4/1AX4XfWiNVF5ujLRFwdWwPHX0Qoo9Opg5ETMhPQwAjxhvR5xnGaZlyj0tN1M\n",
            "\n",
            "Successfully saved authorization token.\n"
          ]
        }
      ]
    },
    {
      "cell_type": "code",
      "source": [
        "# Install Function for Cloud Mask\n",
        "def maskS2clouds(image) :\n",
        "  qa = image.select('QA60')\n",
        "\n",
        "  # Bits 10 and 11 are clouds and cirrus, respectively.\n",
        "  cloudBitMask = 1 << 10\n",
        "  cirrusBitMask = 1 << 11\n",
        "\n",
        "  # Both flags should be set to zero, indicating clear conditions.\n",
        "  mask = (qa.bitwiseAnd(cloudBitMask).eq(0)) and (qa.bitwiseAnd(cirrusBitMask).eq(0))\n",
        "\n",
        "  return image.updateMask(mask).divide(10000)\n",
        "\n",
        "# Map Visualization : Google Earth Engine\n",
        "def add_ee_layer(self, ee_image_object, vis_params, name):\n",
        "  map_id_dict = ee.Image(ee_image_object).getMapId(vis_params)\n",
        "  folium.raster_layers.TileLayer(\n",
        "      tiles=map_id_dict['tile_fetcher'].url_format,\n",
        "      attr='Map Data &copy; <a href=\"https://earthengine.google.com/\">Google Earth Engine</a>',\n",
        "      name=name,\n",
        "      overlay=True,\n",
        "      control=True\n",
        "  ).add_to(self)"
      ],
      "metadata": {
        "id": "vJ45GuZ1crJ8"
      },
      "execution_count": 3,
      "outputs": []
    },
    {
      "cell_type": "markdown",
      "source": [
        "Select your area of interest, date, band 8 threshold for landmask"
      ],
      "metadata": {
        "id": "QdgQhuuenPh5"
      }
    },
    {
      "cell_type": "code",
      "source": [
        "####################################### OVERVIEW SATELLITE IMAGE\n",
        "\n",
        "lat_min, lat_max, lon_min, lon_max = (12.498140, 12.715250, 101.074208, 101.966847)\n",
        "AOI = ee.Geometry.Polygon(\n",
        "        [[[lon_min, lat_max],\n",
        "           [lon_min, lat_min],\n",
        "           [lon_max, lat_min],\n",
        "           [lon_max, lat_max]]])\n",
        "\n",
        "fromdate = '2021-1-1'\n",
        "todate = '2022-1-1'\n",
        "\n",
        "image = ee.ImageCollection('COPERNICUS/S2_SR').filterDate(fromdate,todate).\\\n",
        "          filterMetadata('CLOUDY_PIXEL_PERCENTAGE','less_than',8).\\\n",
        "          filterBounds(AOI).map(maskS2clouds).mosaic().clip(AOI)\n",
        "\n",
        "### LANDMASK BY BAND 8 THRESHOLD\n",
        "B8_threshold = 0.04\n",
        "\n",
        "B8_c = (image.select('B8').lt(B8_threshold)).selfMask()\n",
        "B2_lm = image.select('B2').multiply(B8_c)\n",
        "B3_lm = image.select('B3').multiply(B8_c)\n",
        "B4_lm = image.select('B4').multiply(B8_c)\n",
        "B8_lm = image.select('B8').multiply(B8_c)\n",
        "image = image.addBands(B2_lm.rename('B2_lm'))\n",
        "image = image.addBands(B3_lm.rename('B3_lm'))\n",
        "image = image.addBands(B4_lm.rename('B4_lm'))\n",
        "image = image.addBands(B4_lm.rename('B8_lm'))\n",
        "\n",
        "############### VISUALIZATION ############################## \n",
        "folium.Map.add_ee_layer = add_ee_layer\n",
        "c = (AOI.centroid().getInfo())['coordinates']\n",
        "map_matched = folium.Map(location=[c[1], c[0]], zoom_start=11)\n",
        "\n",
        "map_matched.add_ee_layer(image,{'min':0, 'max':0.3, 'bands':['B4','B3','B2']},'RGB_L2A')\n",
        "map_matched.add_ee_layer(image,{'min':0, 'max':0.3, 'bands':['B4_lm','B3_lm','B2_lm']},'RGB_L2A_landmask')\n",
        "\n",
        "display(map_matched.add_child(folium.LayerControl()))"
      ],
      "metadata": {
        "colab": {
          "base_uri": "https://localhost:8080/",
          "height": 866
        },
        "id": "pS2sjkrDcxxN",
        "outputId": "db53585b-982e-4492-e466-f70b84b46f28"
      },
      "execution_count": 10,
      "outputs": [
        {
          "output_type": "display_data",
          "data": {
            "text/plain": [
              "<folium.folium.Map at 0x7f43aabf3250>"
            ],
            "text/html": [
              "<div style=\"width:100%;\"><div style=\"position:relative;width:100%;height:0;padding-bottom:60%;\"><span style=\"color:#565656\">Make this Notebook Trusted to load map: File -> Trust Notebook</span><iframe srcdoc=\"&lt;!DOCTYPE html&gt;\n",
              "&lt;head&gt;    \n",
              "    &lt;meta http-equiv=&quot;content-type&quot; content=&quot;text/html; charset=UTF-8&quot; /&gt;\n",
              "    &lt;script&gt;L_PREFER_CANVAS=false; L_NO_TOUCH=false; L_DISABLE_3D=false;&lt;/script&gt;\n",
              "    &lt;script src=&quot;https://cdn.jsdelivr.net/npm/leaflet@1.4.0/dist/leaflet.js&quot;&gt;&lt;/script&gt;\n",
              "    &lt;script src=&quot;https://code.jquery.com/jquery-1.12.4.min.js&quot;&gt;&lt;/script&gt;\n",
              "    &lt;script src=&quot;https://maxcdn.bootstrapcdn.com/bootstrap/3.2.0/js/bootstrap.min.js&quot;&gt;&lt;/script&gt;\n",
              "    &lt;script src=&quot;https://cdnjs.cloudflare.com/ajax/libs/Leaflet.awesome-markers/2.0.2/leaflet.awesome-markers.js&quot;&gt;&lt;/script&gt;\n",
              "    &lt;link rel=&quot;stylesheet&quot; href=&quot;https://cdn.jsdelivr.net/npm/leaflet@1.4.0/dist/leaflet.css&quot;/&gt;\n",
              "    &lt;link rel=&quot;stylesheet&quot; href=&quot;https://maxcdn.bootstrapcdn.com/bootstrap/3.2.0/css/bootstrap.min.css&quot;/&gt;\n",
              "    &lt;link rel=&quot;stylesheet&quot; href=&quot;https://maxcdn.bootstrapcdn.com/bootstrap/3.2.0/css/bootstrap-theme.min.css&quot;/&gt;\n",
              "    &lt;link rel=&quot;stylesheet&quot; href=&quot;https://maxcdn.bootstrapcdn.com/font-awesome/4.6.3/css/font-awesome.min.css&quot;/&gt;\n",
              "    &lt;link rel=&quot;stylesheet&quot; href=&quot;https://cdnjs.cloudflare.com/ajax/libs/Leaflet.awesome-markers/2.0.2/leaflet.awesome-markers.css&quot;/&gt;\n",
              "    &lt;link rel=&quot;stylesheet&quot; href=&quot;https://rawcdn.githack.com/python-visualization/folium/master/folium/templates/leaflet.awesome.rotate.css&quot;/&gt;\n",
              "    &lt;style&gt;html, body {width: 100%;height: 100%;margin: 0;padding: 0;}&lt;/style&gt;\n",
              "    &lt;style&gt;#map {position:absolute;top:0;bottom:0;right:0;left:0;}&lt;/style&gt;\n",
              "    \n",
              "    &lt;meta name=&quot;viewport&quot; content=&quot;width=device-width,\n",
              "        initial-scale=1.0, maximum-scale=1.0, user-scalable=no&quot; /&gt;\n",
              "    &lt;style&gt;#map_1111e93cf87cee3c0db6e612bedaef04 {\n",
              "        position: relative;\n",
              "        width: 100.0%;\n",
              "        height: 100.0%;\n",
              "        left: 0.0%;\n",
              "        top: 0.0%;\n",
              "        }\n",
              "    &lt;/style&gt;\n",
              "&lt;/head&gt;\n",
              "&lt;body&gt;    \n",
              "    \n",
              "    &lt;div class=&quot;folium-map&quot; id=&quot;map_1111e93cf87cee3c0db6e612bedaef04&quot; &gt;&lt;/div&gt;\n",
              "&lt;/body&gt;\n",
              "&lt;script&gt;    \n",
              "    \n",
              "    \n",
              "        var bounds = null;\n",
              "    \n",
              "\n",
              "    var map_1111e93cf87cee3c0db6e612bedaef04 = L.map(\n",
              "        &#x27;map_1111e93cf87cee3c0db6e612bedaef04&#x27;, {\n",
              "        center: [12.607049935273995, 101.52052749999987],\n",
              "        zoom: 11,\n",
              "        maxBounds: bounds,\n",
              "        layers: [],\n",
              "        worldCopyJump: false,\n",
              "        crs: L.CRS.EPSG3857,\n",
              "        zoomControl: true,\n",
              "        });\n",
              "\n",
              "\n",
              "    \n",
              "    var tile_layer_4b2b057c49ca8b6764ac0d1a5c3c0172 = L.tileLayer(\n",
              "        &#x27;https://{s}.tile.openstreetmap.org/{z}/{x}/{y}.png&#x27;,\n",
              "        {\n",
              "        &quot;attribution&quot;: null,\n",
              "        &quot;detectRetina&quot;: false,\n",
              "        &quot;maxNativeZoom&quot;: 18,\n",
              "        &quot;maxZoom&quot;: 18,\n",
              "        &quot;minZoom&quot;: 0,\n",
              "        &quot;noWrap&quot;: false,\n",
              "        &quot;opacity&quot;: 1,\n",
              "        &quot;subdomains&quot;: &quot;abc&quot;,\n",
              "        &quot;tms&quot;: false\n",
              "}).addTo(map_1111e93cf87cee3c0db6e612bedaef04);\n",
              "    var tile_layer_a24c3d1d85f70ec2947508ed715ba357 = L.tileLayer(\n",
              "        &#x27;https://earthengine.googleapis.com/v1alpha/projects/earthengine-legacy/maps/a58f0c962b85aa5753f79fd72d438e7d-047857ba48cdd8798c824fcade5343a4/tiles/{z}/{x}/{y}&#x27;,\n",
              "        {\n",
              "        &quot;attribution&quot;: &quot;Map Data &amp;copy; &lt;a href=\\&quot;https://earthengine.google.com/\\&quot;&gt;Google Earth Engine&lt;/a&gt;&quot;,\n",
              "        &quot;detectRetina&quot;: false,\n",
              "        &quot;maxNativeZoom&quot;: 18,\n",
              "        &quot;maxZoom&quot;: 18,\n",
              "        &quot;minZoom&quot;: 0,\n",
              "        &quot;noWrap&quot;: false,\n",
              "        &quot;opacity&quot;: 1,\n",
              "        &quot;subdomains&quot;: &quot;abc&quot;,\n",
              "        &quot;tms&quot;: false\n",
              "}).addTo(map_1111e93cf87cee3c0db6e612bedaef04);\n",
              "    var tile_layer_cd69f407698696939ba34dc55af6a31c = L.tileLayer(\n",
              "        &#x27;https://earthengine.googleapis.com/v1alpha/projects/earthengine-legacy/maps/b33c7be53599043d511d51e23ab2aacc-5fde75a75a8fec589bbf9658a36b71ae/tiles/{z}/{x}/{y}&#x27;,\n",
              "        {\n",
              "        &quot;attribution&quot;: &quot;Map Data &amp;copy; &lt;a href=\\&quot;https://earthengine.google.com/\\&quot;&gt;Google Earth Engine&lt;/a&gt;&quot;,\n",
              "        &quot;detectRetina&quot;: false,\n",
              "        &quot;maxNativeZoom&quot;: 18,\n",
              "        &quot;maxZoom&quot;: 18,\n",
              "        &quot;minZoom&quot;: 0,\n",
              "        &quot;noWrap&quot;: false,\n",
              "        &quot;opacity&quot;: 1,\n",
              "        &quot;subdomains&quot;: &quot;abc&quot;,\n",
              "        &quot;tms&quot;: false\n",
              "}).addTo(map_1111e93cf87cee3c0db6e612bedaef04);\n",
              "    \n",
              "            var layer_control_a31e7ce9f55040c8ec2256529a84c9e2 = {\n",
              "                base_layers : { &quot;openstreetmap&quot; : tile_layer_4b2b057c49ca8b6764ac0d1a5c3c0172, },\n",
              "                overlays : { &quot;RGB_L2A&quot; : tile_layer_a24c3d1d85f70ec2947508ed715ba357,&quot;RGB_L2A_landmask&quot; : tile_layer_cd69f407698696939ba34dc55af6a31c, }\n",
              "                };\n",
              "            L.control.layers(\n",
              "                layer_control_a31e7ce9f55040c8ec2256529a84c9e2.base_layers,\n",
              "                layer_control_a31e7ce9f55040c8ec2256529a84c9e2.overlays,\n",
              "                {position: &#x27;topright&#x27;,\n",
              "                 collapsed: true,\n",
              "                 autoZIndex: true\n",
              "                }).addTo(map_1111e93cf87cee3c0db6e612bedaef04);\n",
              "            \n",
              "        \n",
              "&lt;/script&gt;\" style=\"position:absolute;width:100%;height:100%;left:0;top:0;border:none !important;\" allowfullscreen webkitallowfullscreen mozallowfullscreen></iframe></div></div>"
            ]
          },
          "metadata": {}
        }
      ]
    },
    {
      "cell_type": "markdown",
      "source": [
        "Do the bathymetry calculation, please select your suitable coefficient ..."
      ],
      "metadata": {
        "id": "J-sIKVmknWNZ"
      }
    },
    {
      "cell_type": "code",
      "source": [
        "#### SATELLITE DERIVED BATHYMETRY ALGORITHM - STUMPF ALGORITHM\n",
        "\n",
        "if 0:   # Open/Close SDB Algorithm\n",
        "  A = (image.select('B2_lm')).multiply(1000)\n",
        "  B = (image.select('B3_lm')).multiply(1000)\n",
        "  B2B3 = (A.log()).divide(B.log())\n",
        "  #SDB_ST = m0 + m1((ln1000B2)/(ln1000B3))\n",
        "  image = image.addBands(B2B3.rename('B2B3'))\n",
        "\n",
        "  # Use Coefficient from Koh Mark Trat : SDB Senior Project ...\n",
        "  model_sdb_coef_ = 68.1061068420549\n",
        "  model_sdb_intercept_ = -63.72996441\n",
        "\n",
        "  SDB_ST = ((image.select('B2B3')).multiply(float(model_sdb_coef_))).add(model_sdb_intercept_)\n",
        "  image = image.addBands(SDB_ST.rename('SDB_ST'))\n",
        "  print('Stumpf finish ....')\n",
        "\n",
        "############### VISUALIZATION ############################## \n",
        "folium.Map.add_ee_layer = add_ee_layer\n",
        "c = (AOI.centroid().getInfo())['coordinates']\n",
        "map_matched = folium.Map(location=[c[1], c[0]], zoom_start=11)\n",
        "\n",
        "depth_palette = ['#FE1B09','#FEB009', '#FEFB09','#B8FE09', '#09FEF3', '#0927FE']\n",
        "\n",
        "map_matched.add_ee_layer(image,{'min':0, 'max':0.3, 'bands':['B4','B3','B2']},'RGB_L2A')\n",
        "map_matched.add_ee_layer(image.select('SDB_ST'),{'min': 0, 'max': 16, 'palette' : depth_palette},'SDB Stumpf') \n",
        "\n",
        "display(map_matched.add_child(folium.LayerControl()))"
      ],
      "metadata": {
        "colab": {
          "base_uri": "https://localhost:8080/",
          "height": 866
        },
        "id": "3TBdF_bhfRnZ",
        "outputId": "b0ca929e-f9fc-44ba-d9a3-09f39588c69d"
      },
      "execution_count": 12,
      "outputs": [
        {
          "output_type": "display_data",
          "data": {
            "text/plain": [
              "<folium.folium.Map at 0x7f43aac7b2d0>"
            ],
            "text/html": [
              "<div style=\"width:100%;\"><div style=\"position:relative;width:100%;height:0;padding-bottom:60%;\"><span style=\"color:#565656\">Make this Notebook Trusted to load map: File -> Trust Notebook</span><iframe srcdoc=\"&lt;!DOCTYPE html&gt;\n",
              "&lt;head&gt;    \n",
              "    &lt;meta http-equiv=&quot;content-type&quot; content=&quot;text/html; charset=UTF-8&quot; /&gt;\n",
              "    &lt;script&gt;L_PREFER_CANVAS=false; L_NO_TOUCH=false; L_DISABLE_3D=false;&lt;/script&gt;\n",
              "    &lt;script src=&quot;https://cdn.jsdelivr.net/npm/leaflet@1.4.0/dist/leaflet.js&quot;&gt;&lt;/script&gt;\n",
              "    &lt;script src=&quot;https://code.jquery.com/jquery-1.12.4.min.js&quot;&gt;&lt;/script&gt;\n",
              "    &lt;script src=&quot;https://maxcdn.bootstrapcdn.com/bootstrap/3.2.0/js/bootstrap.min.js&quot;&gt;&lt;/script&gt;\n",
              "    &lt;script src=&quot;https://cdnjs.cloudflare.com/ajax/libs/Leaflet.awesome-markers/2.0.2/leaflet.awesome-markers.js&quot;&gt;&lt;/script&gt;\n",
              "    &lt;link rel=&quot;stylesheet&quot; href=&quot;https://cdn.jsdelivr.net/npm/leaflet@1.4.0/dist/leaflet.css&quot;/&gt;\n",
              "    &lt;link rel=&quot;stylesheet&quot; href=&quot;https://maxcdn.bootstrapcdn.com/bootstrap/3.2.0/css/bootstrap.min.css&quot;/&gt;\n",
              "    &lt;link rel=&quot;stylesheet&quot; href=&quot;https://maxcdn.bootstrapcdn.com/bootstrap/3.2.0/css/bootstrap-theme.min.css&quot;/&gt;\n",
              "    &lt;link rel=&quot;stylesheet&quot; href=&quot;https://maxcdn.bootstrapcdn.com/font-awesome/4.6.3/css/font-awesome.min.css&quot;/&gt;\n",
              "    &lt;link rel=&quot;stylesheet&quot; href=&quot;https://cdnjs.cloudflare.com/ajax/libs/Leaflet.awesome-markers/2.0.2/leaflet.awesome-markers.css&quot;/&gt;\n",
              "    &lt;link rel=&quot;stylesheet&quot; href=&quot;https://rawcdn.githack.com/python-visualization/folium/master/folium/templates/leaflet.awesome.rotate.css&quot;/&gt;\n",
              "    &lt;style&gt;html, body {width: 100%;height: 100%;margin: 0;padding: 0;}&lt;/style&gt;\n",
              "    &lt;style&gt;#map {position:absolute;top:0;bottom:0;right:0;left:0;}&lt;/style&gt;\n",
              "    \n",
              "    &lt;meta name=&quot;viewport&quot; content=&quot;width=device-width,\n",
              "        initial-scale=1.0, maximum-scale=1.0, user-scalable=no&quot; /&gt;\n",
              "    &lt;style&gt;#map_9b781d4a3704302dcd2950517d8198a5 {\n",
              "        position: relative;\n",
              "        width: 100.0%;\n",
              "        height: 100.0%;\n",
              "        left: 0.0%;\n",
              "        top: 0.0%;\n",
              "        }\n",
              "    &lt;/style&gt;\n",
              "&lt;/head&gt;\n",
              "&lt;body&gt;    \n",
              "    \n",
              "    &lt;div class=&quot;folium-map&quot; id=&quot;map_9b781d4a3704302dcd2950517d8198a5&quot; &gt;&lt;/div&gt;\n",
              "&lt;/body&gt;\n",
              "&lt;script&gt;    \n",
              "    \n",
              "    \n",
              "        var bounds = null;\n",
              "    \n",
              "\n",
              "    var map_9b781d4a3704302dcd2950517d8198a5 = L.map(\n",
              "        &#x27;map_9b781d4a3704302dcd2950517d8198a5&#x27;, {\n",
              "        center: [12.607049935273995, 101.52052749999987],\n",
              "        zoom: 11,\n",
              "        maxBounds: bounds,\n",
              "        layers: [],\n",
              "        worldCopyJump: false,\n",
              "        crs: L.CRS.EPSG3857,\n",
              "        zoomControl: true,\n",
              "        });\n",
              "\n",
              "\n",
              "    \n",
              "    var tile_layer_1083d8df2f89d137ee295824fd1304c1 = L.tileLayer(\n",
              "        &#x27;https://{s}.tile.openstreetmap.org/{z}/{x}/{y}.png&#x27;,\n",
              "        {\n",
              "        &quot;attribution&quot;: null,\n",
              "        &quot;detectRetina&quot;: false,\n",
              "        &quot;maxNativeZoom&quot;: 18,\n",
              "        &quot;maxZoom&quot;: 18,\n",
              "        &quot;minZoom&quot;: 0,\n",
              "        &quot;noWrap&quot;: false,\n",
              "        &quot;opacity&quot;: 1,\n",
              "        &quot;subdomains&quot;: &quot;abc&quot;,\n",
              "        &quot;tms&quot;: false\n",
              "}).addTo(map_9b781d4a3704302dcd2950517d8198a5);\n",
              "    var tile_layer_43e59ef52fdda4e7006ba2125d5ee2c9 = L.tileLayer(\n",
              "        &#x27;https://earthengine.googleapis.com/v1alpha/projects/earthengine-legacy/maps/ab563d0534a868e1cee355502541cee4-ac2d381d510ee886d698b3183fcfd4b5/tiles/{z}/{x}/{y}&#x27;,\n",
              "        {\n",
              "        &quot;attribution&quot;: &quot;Map Data &amp;copy; &lt;a href=\\&quot;https://earthengine.google.com/\\&quot;&gt;Google Earth Engine&lt;/a&gt;&quot;,\n",
              "        &quot;detectRetina&quot;: false,\n",
              "        &quot;maxNativeZoom&quot;: 18,\n",
              "        &quot;maxZoom&quot;: 18,\n",
              "        &quot;minZoom&quot;: 0,\n",
              "        &quot;noWrap&quot;: false,\n",
              "        &quot;opacity&quot;: 1,\n",
              "        &quot;subdomains&quot;: &quot;abc&quot;,\n",
              "        &quot;tms&quot;: false\n",
              "}).addTo(map_9b781d4a3704302dcd2950517d8198a5);\n",
              "    var tile_layer_9e2ebc08707ea11bfc0c6de83354e7a2 = L.tileLayer(\n",
              "        &#x27;https://earthengine.googleapis.com/v1alpha/projects/earthengine-legacy/maps/fbbf8abd95555ab8f09d87938996b1a2-c44e8a7be74bbfaa478877a4fd0b5aae/tiles/{z}/{x}/{y}&#x27;,\n",
              "        {\n",
              "        &quot;attribution&quot;: &quot;Map Data &amp;copy; &lt;a href=\\&quot;https://earthengine.google.com/\\&quot;&gt;Google Earth Engine&lt;/a&gt;&quot;,\n",
              "        &quot;detectRetina&quot;: false,\n",
              "        &quot;maxNativeZoom&quot;: 18,\n",
              "        &quot;maxZoom&quot;: 18,\n",
              "        &quot;minZoom&quot;: 0,\n",
              "        &quot;noWrap&quot;: false,\n",
              "        &quot;opacity&quot;: 1,\n",
              "        &quot;subdomains&quot;: &quot;abc&quot;,\n",
              "        &quot;tms&quot;: false\n",
              "}).addTo(map_9b781d4a3704302dcd2950517d8198a5);\n",
              "    \n",
              "            var layer_control_6438a83bc87f0cb8531ff7b48b361e3d = {\n",
              "                base_layers : { &quot;openstreetmap&quot; : tile_layer_1083d8df2f89d137ee295824fd1304c1, },\n",
              "                overlays : { &quot;RGB_L2A&quot; : tile_layer_43e59ef52fdda4e7006ba2125d5ee2c9,&quot;SDB Stumpf&quot; : tile_layer_9e2ebc08707ea11bfc0c6de83354e7a2, }\n",
              "                };\n",
              "            L.control.layers(\n",
              "                layer_control_6438a83bc87f0cb8531ff7b48b361e3d.base_layers,\n",
              "                layer_control_6438a83bc87f0cb8531ff7b48b361e3d.overlays,\n",
              "                {position: &#x27;topright&#x27;,\n",
              "                 collapsed: true,\n",
              "                 autoZIndex: true\n",
              "                }).addTo(map_9b781d4a3704302dcd2950517d8198a5);\n",
              "            \n",
              "        \n",
              "&lt;/script&gt;\" style=\"position:absolute;width:100%;height:100%;left:0;top:0;border:none !important;\" allowfullscreen webkitallowfullscreen mozallowfullscreen></iframe></div></div>"
            ]
          },
          "metadata": {}
        }
      ]
    },
    {
      "cell_type": "markdown",
      "source": [
        "export to geotiff"
      ],
      "metadata": {
        "id": "zod5HOB-ndNW"
      }
    },
    {
      "cell_type": "code",
      "source": [
        "sdb_band = image.select('SDB_ST')\n",
        "task = ee.batch.Export.image.toDrive(**{\n",
        "    'image': sdb_band,\n",
        "    'description': 'sdb_kohsamet',\n",
        "    'folder':'mybathymetry',\n",
        "    'scale': 10,\n",
        "    'region': AOI.getInfo()['coordinates']\n",
        "})\n",
        "task.start()\n",
        "\n",
        "import time \n",
        "while task.active():\n",
        "  print('Polling for task (id: {}).'.format(task.id))\n",
        "  time.sleep(5)"
      ],
      "metadata": {
        "colab": {
          "base_uri": "https://localhost:8080/"
        },
        "id": "m2rqwFWGjk4u",
        "outputId": "89eeeaf4-ec55-4c04-a1e9-f136fcd6584a"
      },
      "execution_count": null,
      "outputs": [
        {
          "output_type": "stream",
          "name": "stdout",
          "text": [
            "Polling for task (id: YMMIT4RHBAFINC5ESP7GNQXG).\n",
            "Polling for task (id: YMMIT4RHBAFINC5ESP7GNQXG).\n",
            "Polling for task (id: YMMIT4RHBAFINC5ESP7GNQXG).\n",
            "Polling for task (id: YMMIT4RHBAFINC5ESP7GNQXG).\n",
            "Polling for task (id: YMMIT4RHBAFINC5ESP7GNQXG).\n",
            "Polling for task (id: YMMIT4RHBAFINC5ESP7GNQXG).\n"
          ]
        }
      ]
    }
  ]
}