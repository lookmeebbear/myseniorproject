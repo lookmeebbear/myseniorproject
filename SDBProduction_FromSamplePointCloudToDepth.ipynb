{
  "nbformat": 4,
  "nbformat_minor": 0,
  "metadata": {
    "colab": {
      "name": "SDBProduction_FromSamplePointCloudToDepth.ipynb",
      "provenance": []
    },
    "kernelspec": {
      "name": "python3",
      "display_name": "Python 3"
    },
    "language_info": {
      "name": "python"
    }
  },
  "cells": [
    {
      "cell_type": "markdown",
      "source": [
        "# **Satellite Derived Bathymetry with sample elevation data by Google Earth Engine**\n",
        "\n",
        "การทำแบบจำลองความลึกท้องน้ำตื้นโดยใช้ภาพถ่ายดาวเทียม Sentinel 2 (L2A : Bottom of the atmosphere) แปลงค่าการสะท้อนในช่วงคลื่นสีน้ำเงินและเขียวเป็นความลึกของน้ำผ่านสมการเชิงประจักษ์ (Empirical formula) สำหรับพื้นที่ชายฝั่งทะเล\n",
        "\n",
        "\n",
        "**ต้องการข้อมูลค่ารังวัดภาคสนามประกอบการทำแบบจำลอง**\n",
        "\n",
        "\n",
        "Thepchai Srinoi and Associate Professor Dr. Phisan Santitamnont\n",
        "\n",
        "Department of Survey Engineering\n",
        "\n",
        "Faculty of Engineering\n",
        "\n",
        "Chulalongkorn University"
      ],
      "metadata": {
        "id": "6b47mzd8_6ZO"
      }
    },
    {
      "cell_type": "markdown",
      "source": [
        "Prepared your library ...."
      ],
      "metadata": {
        "id": "r5DU65RHAHh8"
      }
    },
    {
      "cell_type": "code",
      "execution_count": null,
      "metadata": {
        "colab": {
          "base_uri": "https://localhost:8080/"
        },
        "id": "y0nD2oNkjm_6",
        "outputId": "f61bb089-eb62-48ab-b735-3888fe68c0c0"
      },
      "outputs": [
        {
          "output_type": "stream",
          "name": "stdout",
          "text": [
            "Looking in indexes: https://pypi.org/simple, https://us-python.pkg.dev/colab-wheels/public/simple/\n",
            "Collecting pygeodesy\n",
            "  Downloading PyGeodesy-22.6.9-py2.py3-none-any.whl (796 kB)\n",
            "\u001b[K     |████████████████████████████████| 796 kB 6.7 MB/s \n",
            "\u001b[?25hInstalling collected packages: pygeodesy\n",
            "Successfully installed pygeodesy-22.6.9\n"
          ]
        }
      ],
      "source": [
        "!pip install pygeodesy"
      ]
    },
    {
      "cell_type": "code",
      "source": [
        "import ee\n",
        "# Authenticate to the Earth Engine servers\n",
        "ee.Authenticate()\n",
        "# Initialize the API\n",
        "ee.Initialize()"
      ],
      "metadata": {
        "colab": {
          "base_uri": "https://localhost:8080/"
        },
        "id": "2b7ZknlQjumR",
        "outputId": "90b95dba-2a20-45fc-8a29-25d79a771ac5"
      },
      "execution_count": null,
      "outputs": [
        {
          "output_type": "stream",
          "name": "stdout",
          "text": [
            "To authorize access needed by Earth Engine, open the following URL in a web browser and follow the instructions. If the web browser does not start automatically, please manually browse the URL below.\n",
            "\n",
            "    https://code.earthengine.google.com/client-auth?scopes=https%3A//www.googleapis.com/auth/earthengine%20https%3A//www.googleapis.com/auth/devstorage.full_control&request_id=fSGRvjXM_W_s8UGuakMul2jJ4zXhUJ2oM8Mfb7YXN2o&tc=eTPEydf3-MNueLbkYye8VMHKpLnsKD1KxwLATYsRR74&cc=KHv5MQvfCdIapmEtLTXvHT8F24uGf0iYAy-PWk3ncCs\n",
            "\n",
            "The authorization workflow will generate a code, which you should paste in the box below. \n",
            "Enter verification code: 4/1AX4XfWhd7x8bSaqT0HD1Oi8v_CCoYATkENk3TRLxxQ0CGaldzuLi6e91tzA\n",
            "\n",
            "Successfully saved authorization token.\n"
          ]
        }
      ]
    },
    {
      "cell_type": "code",
      "source": [
        "# import the crucial libraries\n",
        "import pandas as pd\n",
        "import matplotlib as mp\n",
        "import matplotlib.pyplot as plt\n",
        "import numpy as np\n",
        "from sklearn.linear_model import LinearRegression\n",
        "import folium\n",
        "import pygeodesy\n",
        "from pygeodesy.ellipsoidalKarney import LatLon"
      ],
      "metadata": {
        "id": "g7TeeJjzj6bl"
      },
      "execution_count": null,
      "outputs": []
    },
    {
      "cell_type": "code",
      "source": [
        "def photonplot(X,Y) :\n",
        "  plt.title('photon profile')\n",
        "  plt.ylabel('ellipsoidal height (m)')\n",
        "  plt.xlabel('latitude (deg)')\n",
        "  #plt.scatter(df_train_select.lat,df_train_select.h)\n",
        "  plt.scatter(X,Y)\n",
        "  plt.grid()\n",
        "  plt.show()"
      ],
      "metadata": {
        "id": "xX-FD2aAnvf5"
      },
      "execution_count": null,
      "outputs": []
    },
    {
      "cell_type": "markdown",
      "source": [
        "Import your sample point cloud from field survey ... (photon height -- ellipsoidal height)\n",
        "\n",
        "คำเตือน : ค่าระดับจาก ICESat-2 https://openaltimetry.org/data/icesat2/ ต้องทำ refraction correction ก่อน เพื่อไม่ให้แบบจำลองความลึกของเราลึกเกิน"
      ],
      "metadata": {
        "id": "jvX8c2xQALnR"
      }
    },
    {
      "cell_type": "code",
      "source": [
        "import pandas as pd\n",
        "df = pd.read_csv('/content/drive/MyDrive/SeniorProject/myinput/sdb_icesat2_csv/photon_2022-02-06_gt1l_t705_1655282450907.csv')\n",
        "df"
      ],
      "metadata": {
        "colab": {
          "base_uri": "https://localhost:8080/",
          "height": 424
        },
        "id": "am-eyd-vkAXu",
        "outputId": "af96693a-7caf-45d6-d8a5-c5c0dff671a0"
      },
      "execution_count": null,
      "outputs": [
        {
          "output_type": "execute_result",
          "data": {
            "text/plain": [
              "        latitude   longitude  photon height  confidence code\n",
              "0      12.687742  101.385779     280.057740                0\n",
              "1      12.687730  101.385801    -132.808790                0\n",
              "2      12.687727  101.385794      -5.886936                4\n",
              "3      12.687722  101.385804    -190.066100                0\n",
              "4      12.687721  101.385793      -5.655722                4\n",
              "...          ...         ...            ...              ...\n",
              "84590  12.465319  101.363125     -25.070978                4\n",
              "84591  12.465312  101.363124     -25.184513                4\n",
              "84592  12.465306  101.363123     -25.041723                4\n",
              "84593  12.465299  101.363123     -25.007881                4\n",
              "84594  12.465293  101.363122     -25.138102                4\n",
              "\n",
              "[84595 rows x 4 columns]"
            ],
            "text/html": [
              "\n",
              "  <div id=\"df-896bdf95-85ff-4d3f-a716-520d876ccb93\">\n",
              "    <div class=\"colab-df-container\">\n",
              "      <div>\n",
              "<style scoped>\n",
              "    .dataframe tbody tr th:only-of-type {\n",
              "        vertical-align: middle;\n",
              "    }\n",
              "\n",
              "    .dataframe tbody tr th {\n",
              "        vertical-align: top;\n",
              "    }\n",
              "\n",
              "    .dataframe thead th {\n",
              "        text-align: right;\n",
              "    }\n",
              "</style>\n",
              "<table border=\"1\" class=\"dataframe\">\n",
              "  <thead>\n",
              "    <tr style=\"text-align: right;\">\n",
              "      <th></th>\n",
              "      <th>latitude</th>\n",
              "      <th>longitude</th>\n",
              "      <th>photon height</th>\n",
              "      <th>confidence code</th>\n",
              "    </tr>\n",
              "  </thead>\n",
              "  <tbody>\n",
              "    <tr>\n",
              "      <th>0</th>\n",
              "      <td>12.687742</td>\n",
              "      <td>101.385779</td>\n",
              "      <td>280.057740</td>\n",
              "      <td>0</td>\n",
              "    </tr>\n",
              "    <tr>\n",
              "      <th>1</th>\n",
              "      <td>12.687730</td>\n",
              "      <td>101.385801</td>\n",
              "      <td>-132.808790</td>\n",
              "      <td>0</td>\n",
              "    </tr>\n",
              "    <tr>\n",
              "      <th>2</th>\n",
              "      <td>12.687727</td>\n",
              "      <td>101.385794</td>\n",
              "      <td>-5.886936</td>\n",
              "      <td>4</td>\n",
              "    </tr>\n",
              "    <tr>\n",
              "      <th>3</th>\n",
              "      <td>12.687722</td>\n",
              "      <td>101.385804</td>\n",
              "      <td>-190.066100</td>\n",
              "      <td>0</td>\n",
              "    </tr>\n",
              "    <tr>\n",
              "      <th>4</th>\n",
              "      <td>12.687721</td>\n",
              "      <td>101.385793</td>\n",
              "      <td>-5.655722</td>\n",
              "      <td>4</td>\n",
              "    </tr>\n",
              "    <tr>\n",
              "      <th>...</th>\n",
              "      <td>...</td>\n",
              "      <td>...</td>\n",
              "      <td>...</td>\n",
              "      <td>...</td>\n",
              "    </tr>\n",
              "    <tr>\n",
              "      <th>84590</th>\n",
              "      <td>12.465319</td>\n",
              "      <td>101.363125</td>\n",
              "      <td>-25.070978</td>\n",
              "      <td>4</td>\n",
              "    </tr>\n",
              "    <tr>\n",
              "      <th>84591</th>\n",
              "      <td>12.465312</td>\n",
              "      <td>101.363124</td>\n",
              "      <td>-25.184513</td>\n",
              "      <td>4</td>\n",
              "    </tr>\n",
              "    <tr>\n",
              "      <th>84592</th>\n",
              "      <td>12.465306</td>\n",
              "      <td>101.363123</td>\n",
              "      <td>-25.041723</td>\n",
              "      <td>4</td>\n",
              "    </tr>\n",
              "    <tr>\n",
              "      <th>84593</th>\n",
              "      <td>12.465299</td>\n",
              "      <td>101.363123</td>\n",
              "      <td>-25.007881</td>\n",
              "      <td>4</td>\n",
              "    </tr>\n",
              "    <tr>\n",
              "      <th>84594</th>\n",
              "      <td>12.465293</td>\n",
              "      <td>101.363122</td>\n",
              "      <td>-25.138102</td>\n",
              "      <td>4</td>\n",
              "    </tr>\n",
              "  </tbody>\n",
              "</table>\n",
              "<p>84595 rows × 4 columns</p>\n",
              "</div>\n",
              "      <button class=\"colab-df-convert\" onclick=\"convertToInteractive('df-896bdf95-85ff-4d3f-a716-520d876ccb93')\"\n",
              "              title=\"Convert this dataframe to an interactive table.\"\n",
              "              style=\"display:none;\">\n",
              "        \n",
              "  <svg xmlns=\"http://www.w3.org/2000/svg\" height=\"24px\"viewBox=\"0 0 24 24\"\n",
              "       width=\"24px\">\n",
              "    <path d=\"M0 0h24v24H0V0z\" fill=\"none\"/>\n",
              "    <path d=\"M18.56 5.44l.94 2.06.94-2.06 2.06-.94-2.06-.94-.94-2.06-.94 2.06-2.06.94zm-11 1L8.5 8.5l.94-2.06 2.06-.94-2.06-.94L8.5 2.5l-.94 2.06-2.06.94zm10 10l.94 2.06.94-2.06 2.06-.94-2.06-.94-.94-2.06-.94 2.06-2.06.94z\"/><path d=\"M17.41 7.96l-1.37-1.37c-.4-.4-.92-.59-1.43-.59-.52 0-1.04.2-1.43.59L10.3 9.45l-7.72 7.72c-.78.78-.78 2.05 0 2.83L4 21.41c.39.39.9.59 1.41.59.51 0 1.02-.2 1.41-.59l7.78-7.78 2.81-2.81c.8-.78.8-2.07 0-2.86zM5.41 20L4 18.59l7.72-7.72 1.47 1.35L5.41 20z\"/>\n",
              "  </svg>\n",
              "      </button>\n",
              "      \n",
              "  <style>\n",
              "    .colab-df-container {\n",
              "      display:flex;\n",
              "      flex-wrap:wrap;\n",
              "      gap: 12px;\n",
              "    }\n",
              "\n",
              "    .colab-df-convert {\n",
              "      background-color: #E8F0FE;\n",
              "      border: none;\n",
              "      border-radius: 50%;\n",
              "      cursor: pointer;\n",
              "      display: none;\n",
              "      fill: #1967D2;\n",
              "      height: 32px;\n",
              "      padding: 0 0 0 0;\n",
              "      width: 32px;\n",
              "    }\n",
              "\n",
              "    .colab-df-convert:hover {\n",
              "      background-color: #E2EBFA;\n",
              "      box-shadow: 0px 1px 2px rgba(60, 64, 67, 0.3), 0px 1px 3px 1px rgba(60, 64, 67, 0.15);\n",
              "      fill: #174EA6;\n",
              "    }\n",
              "\n",
              "    [theme=dark] .colab-df-convert {\n",
              "      background-color: #3B4455;\n",
              "      fill: #D2E3FC;\n",
              "    }\n",
              "\n",
              "    [theme=dark] .colab-df-convert:hover {\n",
              "      background-color: #434B5C;\n",
              "      box-shadow: 0px 1px 3px 1px rgba(0, 0, 0, 0.15);\n",
              "      filter: drop-shadow(0px 1px 2px rgba(0, 0, 0, 0.3));\n",
              "      fill: #FFFFFF;\n",
              "    }\n",
              "  </style>\n",
              "\n",
              "      <script>\n",
              "        const buttonEl =\n",
              "          document.querySelector('#df-896bdf95-85ff-4d3f-a716-520d876ccb93 button.colab-df-convert');\n",
              "        buttonEl.style.display =\n",
              "          google.colab.kernel.accessAllowed ? 'block' : 'none';\n",
              "\n",
              "        async function convertToInteractive(key) {\n",
              "          const element = document.querySelector('#df-896bdf95-85ff-4d3f-a716-520d876ccb93');\n",
              "          const dataTable =\n",
              "            await google.colab.kernel.invokeFunction('convertToInteractive',\n",
              "                                                     [key], {});\n",
              "          if (!dataTable) return;\n",
              "\n",
              "          const docLinkHtml = 'Like what you see? Visit the ' +\n",
              "            '<a target=\"_blank\" href=https://colab.research.google.com/notebooks/data_table.ipynb>data table notebook</a>'\n",
              "            + ' to learn more about interactive tables.';\n",
              "          element.innerHTML = '';\n",
              "          dataTable['output_type'] = 'display_data';\n",
              "          await google.colab.output.renderOutput(dataTable, element);\n",
              "          const docLink = document.createElement('div');\n",
              "          docLink.innerHTML = docLinkHtml;\n",
              "          element.appendChild(docLink);\n",
              "        }\n",
              "      </script>\n",
              "    </div>\n",
              "  </div>\n",
              "  "
            ]
          },
          "metadata": {},
          "execution_count": 5
        }
      ]
    },
    {
      "cell_type": "code",
      "source": [
        "Df = df.copy()\n",
        "#Df = Df.loc[Df['confidence code'] == 4]\n",
        "Df = Df.loc[(Df['latitude'] > 12.61) & (Df['latitude'] < 12.616)]\n",
        "Df = Df.loc[(Df['photon height'] > -40) & (Df['photon height'] < -20) ]\n",
        "plt.scatter(Df['latitude'], Df['photon height'])"
      ],
      "metadata": {
        "colab": {
          "base_uri": "https://localhost:8080/",
          "height": 282
        },
        "id": "1Lr-0lGqmi15",
        "outputId": "b6038067-5547-4f51-f718-faf1a4234e01"
      },
      "execution_count": null,
      "outputs": [
        {
          "output_type": "execute_result",
          "data": {
            "text/plain": [
              "<matplotlib.collections.PathCollection at 0x7f56d267e5d0>"
            ]
          },
          "metadata": {},
          "execution_count": 36
        },
        {
          "output_type": "display_data",
          "data": {
            "text/plain": [
              "<Figure size 432x288 with 1 Axes>"
            ],
            "image/png": "[encoded data removed]"
          },
          "metadata": {
            "needs_background": "light"
          }
        }
      ]
    },
    {
      "cell_type": "code",
      "source": [
        "Df = df.copy()\n",
        "Df = Df.loc[Df['confidence code'] == 4]\n",
        "Df = Df.loc[(Df['latitude'] > 12.609) & (Df['latitude'] < 12.615)]\n",
        "Df = Df.loc[(Df['photon height'] > -40) & (Df['photon height'] < -20) ]\n",
        "plt.scatter(Df['latitude'], Df['photon height'])"
      ],
      "metadata": {
        "colab": {
          "base_uri": "https://localhost:8080/",
          "height": 282
        },
        "id": "9hDIZMmBkXLG",
        "outputId": "2bf711a0-9b57-4463-eb87-cc41b58691dd"
      },
      "execution_count": null,
      "outputs": [
        {
          "output_type": "execute_result",
          "data": {
            "text/plain": [
              "<matplotlib.collections.PathCollection at 0x7f56d2559b10>"
            ]
          },
          "metadata": {},
          "execution_count": 38
        },
        {
          "output_type": "display_data",
          "data": {
            "text/plain": [
              "<Figure size 432x288 with 1 Axes>"
            ],
            "image/png": "[encoded data removed]"
          },
          "metadata": {
            "needs_background": "light"
          }
        }
      ]
    },
    {
      "cell_type": "code",
      "source": [
        "Df = df.copy()\n",
        "Df = Df.loc[Df['confidence code'] == 4]\n",
        "Df = Df.loc[(Df['latitude'] > 12.614) & (Df['latitude'] < 12.61475)]\n",
        "Df = Df.loc[(Df['photon height'] > -26) & (Df['photon height'] < -20) ]\n",
        "plt.scatter(Df['latitude'], Df['photon height'])"
      ],
      "metadata": {
        "colab": {
          "base_uri": "https://localhost:8080/",
          "height": 295
        },
        "id": "LwHq8IdQnKIx",
        "outputId": "eff88e48-76b2-4755-9d81-a82845deda44"
      },
      "execution_count": null,
      "outputs": [
        {
          "output_type": "execute_result",
          "data": {
            "text/plain": [
              "<matplotlib.collections.PathCollection at 0x7f56d1dc16d0>"
            ]
          },
          "metadata": {},
          "execution_count": 62
        },
        {
          "output_type": "display_data",
          "data": {
            "text/plain": [
              "<Figure size 432x288 with 1 Axes>"
            ],
            "image/png": "[encoded data removed]"
          },
          "metadata": {
            "needs_background": "light"
          }
        }
      ]
    },
    {
      "cell_type": "markdown",
      "source": [
        "Select the height of sea floor point cloud (Assume mean sea level H = 0)"
      ],
      "metadata": {
        "id": "pggUqi57AcsC"
      }
    },
    {
      "cell_type": "code",
      "source": [
        "S1 = (df.loc[(df['latitude'] > 12.609) & (df['latitude'] < 12.615) & (df['confidence code'] == 4)\n",
        "                & (df['photon height'] > -40) & (df['photon height'] < -27)]).copy()\n",
        "\n",
        "S2 = (df.loc[(df['latitude'] > 12.614) & (df['latitude'] < 12.615) & (df['confidence code'] == 4)\n",
        "                & (df['photon height'] > -27) & (df['photon height'] < -26)]).copy()\n",
        "\n",
        "S3 = (df.loc[(df['latitude'] > 12.614) & (df['latitude'] < 12.61475) & (df['confidence code'] == 4)\n",
        "                & (df['photon height'] > -26) & (df['photon height'] < -25.70)]).copy()\n",
        "\n",
        "trainphoton = pd.concat([S1,S2,S3])\n",
        "print('Count', trainphoton['photon height'].count())\n",
        "\n",
        "photonplot(trainphoton['latitude'],trainphoton['photon height'])"
      ],
      "metadata": {
        "colab": {
          "base_uri": "https://localhost:8080/",
          "height": 312
        },
        "id": "daaKKVkJn3Rk",
        "outputId": "a906c9a3-029e-474b-cd8e-18b9b58c81c2"
      },
      "execution_count": null,
      "outputs": [
        {
          "output_type": "stream",
          "name": "stdout",
          "text": [
            "Count 97\n"
          ]
        },
        {
          "output_type": "display_data",
          "data": {
            "text/plain": [
              "<Figure size 432x288 with 1 Axes>"
            ],
            "image/png": "[encoded data removed]"
          },
          "metadata": {
            "needs_background": "light"
          }
        }
      ]
    },
    {
      "cell_type": "code",
      "source": [
        "# Install Function for Cloud Mask\n",
        "def maskS2clouds(image) :\n",
        "  qa = image.select('QA60')\n",
        "\n",
        "  # Bits 10 and 11 are clouds and cirrus, respectively.\n",
        "  cloudBitMask = 1 << 10\n",
        "  cirrusBitMask = 1 << 11\n",
        "\n",
        "  # Both flags should be set to zero, indicating clear conditions.\n",
        "  mask = (qa.bitwiseAnd(cloudBitMask).eq(0)) and (qa.bitwiseAnd(cirrusBitMask).eq(0))\n",
        "\n",
        "  return image.updateMask(mask).divide(10000)\n",
        "\n",
        "# Map Visualization : Google Earth Engine\n",
        "def add_ee_layer(self, ee_image_object, vis_params, name):\n",
        "  map_id_dict = ee.Image(ee_image_object).getMapId(vis_params)\n",
        "  folium.raster_layers.TileLayer(\n",
        "      tiles=map_id_dict['tile_fetcher'].url_format,\n",
        "      attr='Map Data &copy; <a href=\"https://earthengine.google.com/\">Google Earth Engine</a>',\n",
        "      name=name,\n",
        "      overlay=True,\n",
        "      control=True\n",
        "  ).add_to(self)"
      ],
      "metadata": {
        "id": "CNj99DBarUbM"
      },
      "execution_count": null,
      "outputs": []
    },
    {
      "cell_type": "markdown",
      "source": [
        "prepare your satellite image"
      ],
      "metadata": {
        "id": "UytYMtcBA3uV"
      }
    },
    {
      "cell_type": "code",
      "source": [
        "############# PREPARED DATA NAJA #############################\n",
        "# PART 5 SDB FOR MY METHOD 13.450553 13.450553 100.229162 100.231138\n",
        "lat_min, lat_max, lon_min, lon_max = (12.507892, 12.652677, 101.265584, 101.549246)\n",
        "AOI = ee.Geometry.Polygon(\n",
        "        [[[lon_min, lat_max],\n",
        "           [lon_min, lat_min],\n",
        "           [lon_max, lat_min],\n",
        "           [lon_max, lat_max]]])\n",
        "fromdate = '2021-12-30'\n",
        "todate = '2022-6-15'\n",
        "\n",
        "image = ee.ImageCollection('COPERNICUS/S2_SR').filterDate(fromdate,todate).\\\n",
        "          filterMetadata('CLOUDY_PIXEL_PERCENTAGE','less_than',0.5).\\\n",
        "          filterBounds(AOI).map(maskS2clouds).first().clip(AOI)\n",
        "\n",
        "if 1 :\n",
        "  B8_threshold = 0.1\n",
        "\n",
        "  B8_c = (image.select('B8').lt(B8_threshold)).selfMask()\n",
        "  B2_lm = image.select('B2').multiply(B8_c)\n",
        "  B3_lm = image.select('B3').multiply(B8_c)\n",
        "  B4_lm = image.select('B4').multiply(B8_c)\n",
        "  B8_lm = image.select('B8').multiply(B8_c)\n",
        "  image = image.addBands(B2_lm.rename('B2_lm'))\n",
        "  image = image.addBands(B3_lm.rename('B3_lm'))\n",
        "  image = image.addBands(B4_lm.rename('B4_lm'))\n",
        "  image = image.addBands(B4_lm.rename('B8_lm'))\n",
        "#------------------------------------------------------------------------------------------------\n",
        "############### VISUALIZATION ############################## \n",
        "folium.Map.add_ee_layer = add_ee_layer\n",
        "c = (AOI.centroid().getInfo())['coordinates']\n",
        "map_matched = folium.Map(location=[c[1], c[0]], zoom_start=12)\n",
        "\n",
        "depth_palette = ['blue','cyan', 'green','orange', 'red']\n",
        "\n",
        "map_matched.add_ee_layer(image,{'min':0, 'max':0.3, 'bands':['B4','B3','B2']},'RGB_L2A')\n",
        "map_matched.add_ee_layer(image,{'min':0, 'max':0.1, 'bands':['B2_lm']},'BLUE_L2A')\n",
        "\n",
        "display(map_matched.add_child(folium.LayerControl()))"
      ],
      "metadata": {
        "colab": {
          "base_uri": "https://localhost:8080/",
          "height": 735
        },
        "id": "IarBF3s_q5IY",
        "outputId": "a6d49338-5918-4c32-e01d-ffb21e3f518d"
      },
      "execution_count": null,
      "outputs": [
        {
          "output_type": "display_data",
          "data": {
            "text/plain": [
              "<folium.folium.Map at 0x7f56d1c70a50>"
            ],
            "text/html": [
              "<div style=\"width:100%;\"><div style=\"position:relative;width:100%;height:0;padding-bottom:60%;\"><span style=\"color:#565656\">Make this Notebook Trusted to load map: File -> Trust Notebook</span><iframe srcdoc=\"&lt;!DOCTYPE html&gt;\n",
              "&lt;head&gt;    \n",
              "    &lt;meta http-equiv=&quot;content-type&quot; content=&quot;text/html; charset=UTF-8&quot; /&gt;\n",
              "    &lt;script&gt;L_PREFER_CANVAS=false; L_NO_TOUCH=false; L_DISABLE_3D=false;&lt;/script&gt;\n",
              "    &lt;script src=&quot;https://cdn.jsdelivr.net/npm/leaflet@1.4.0/dist/leaflet.js&quot;&gt;&lt;/script&gt;\n",
              "    &lt;script src=&quot;https://code.jquery.com/jquery-1.12.4.min.js&quot;&gt;&lt;/script&gt;\n",
              "    &lt;script src=&quot;https://maxcdn.bootstrapcdn.com/bootstrap/3.2.0/js/bootstrap.min.js&quot;&gt;&lt;/script&gt;\n",
              "    &lt;script src=&quot;https://cdnjs.cloudflare.com/ajax/libs/Leaflet.awesome-markers/2.0.2/leaflet.awesome-markers.js&quot;&gt;&lt;/script&gt;\n",
              "    &lt;link rel=&quot;stylesheet&quot; href=&quot;https://cdn.jsdelivr.net/npm/leaflet@1.4.0/dist/leaflet.css&quot;/&gt;\n",
              "    &lt;link rel=&quot;stylesheet&quot; href=&quot;https://maxcdn.bootstrapcdn.com/bootstrap/3.2.0/css/bootstrap.min.css&quot;/&gt;\n",
              "    &lt;link rel=&quot;stylesheet&quot; href=&quot;https://maxcdn.bootstrapcdn.com/bootstrap/3.2.0/css/bootstrap-theme.min.css&quot;/&gt;\n",
              "    &lt;link rel=&quot;stylesheet&quot; href=&quot;https://maxcdn.bootstrapcdn.com/font-awesome/4.6.3/css/font-awesome.min.css&quot;/&gt;\n",
              "    &lt;link rel=&quot;stylesheet&quot; href=&quot;https://cdnjs.cloudflare.com/ajax/libs/Leaflet.awesome-markers/2.0.2/leaflet.awesome-markers.css&quot;/&gt;\n",
              "    &lt;link rel=&quot;stylesheet&quot; href=&quot;https://rawcdn.githack.com/python-visualization/folium/master/folium/templates/leaflet.awesome.rotate.css&quot;/&gt;\n",
              "    &lt;style&gt;html, body {width: 100%;height: 100%;margin: 0;padding: 0;}&lt;/style&gt;\n",
              "    &lt;style&gt;#map {position:absolute;top:0;bottom:0;right:0;left:0;}&lt;/style&gt;\n",
              "    \n",
              "    &lt;meta name=&quot;viewport&quot; content=&quot;width=device-width,\n",
              "        initial-scale=1.0, maximum-scale=1.0, user-scalable=no&quot; /&gt;\n",
              "    &lt;style&gt;#map_adcb47f72da5d0222fae8868882d9362 {\n",
              "        position: relative;\n",
              "        width: 100.0%;\n",
              "        height: 100.0%;\n",
              "        left: 0.0%;\n",
              "        top: 0.0%;\n",
              "        }\n",
              "    &lt;/style&gt;\n",
              "&lt;/head&gt;\n",
              "&lt;body&gt;    \n",
              "    \n",
              "    &lt;div class=&quot;folium-map&quot; id=&quot;map_adcb47f72da5d0222fae8868882d9362&quot; &gt;&lt;/div&gt;\n",
              "&lt;/body&gt;\n",
              "&lt;script&gt;    \n",
              "    \n",
              "    \n",
              "        var bounds = null;\n",
              "    \n",
              "\n",
              "    var map_adcb47f72da5d0222fae8868882d9362 = L.map(\n",
              "        &#x27;map_adcb47f72da5d0222fae8868882d9362&#x27;, {\n",
              "        center: [12.580315013034324, 101.40741500000003],\n",
              "        zoom: 12,\n",
              "        maxBounds: bounds,\n",
              "        layers: [],\n",
              "        worldCopyJump: false,\n",
              "        crs: L.CRS.EPSG3857,\n",
              "        zoomControl: true,\n",
              "        });\n",
              "\n",
              "\n",
              "    \n",
              "    var tile_layer_e7af85108d31601c8b66e7ee5c3b2d8b = L.tileLayer(\n",
              "        &#x27;https://{s}.tile.openstreetmap.org/{z}/{x}/{y}.png&#x27;,\n",
              "        {\n",
              "        &quot;attribution&quot;: null,\n",
              "        &quot;detectRetina&quot;: false,\n",
              "        &quot;maxNativeZoom&quot;: 18,\n",
              "        &quot;maxZoom&quot;: 18,\n",
              "        &quot;minZoom&quot;: 0,\n",
              "        &quot;noWrap&quot;: false,\n",
              "        &quot;opacity&quot;: 1,\n",
              "        &quot;subdomains&quot;: &quot;abc&quot;,\n",
              "        &quot;tms&quot;: false\n",
              "}).addTo(map_adcb47f72da5d0222fae8868882d9362);\n",
              "    var tile_layer_cd790062803b506c2e050138cbd81e11 = L.tileLayer(\n",
              "        &#x27;https://earthengine.googleapis.com/v1alpha/projects/earthengine-legacy/maps/fce266983d6b38031b6d1f9b0b6dcc08-e5c3832b9ddd813f36a6cb596478eed3/tiles/{z}/{x}/{y}&#x27;,\n",
              "        {\n",
              "        &quot;attribution&quot;: &quot;Map Data &amp;copy; &lt;a href=\\&quot;https://earthengine.google.com/\\&quot;&gt;Google Earth Engine&lt;/a&gt;&quot;,\n",
              "        &quot;detectRetina&quot;: false,\n",
              "        &quot;maxNativeZoom&quot;: 18,\n",
              "        &quot;maxZoom&quot;: 18,\n",
              "        &quot;minZoom&quot;: 0,\n",
              "        &quot;noWrap&quot;: false,\n",
              "        &quot;opacity&quot;: 1,\n",
              "        &quot;subdomains&quot;: &quot;abc&quot;,\n",
              "        &quot;tms&quot;: false\n",
              "}).addTo(map_adcb47f72da5d0222fae8868882d9362);\n",
              "    var tile_layer_30c71d25eaa56b8dc076771d56154ec4 = L.tileLayer(\n",
              "        &#x27;https://earthengine.googleapis.com/v1alpha/projects/earthengine-legacy/maps/ed5d50694660e6c15debc9cd22ca8c71-a909b12d6dbb8f48a8db632eaec08561/tiles/{z}/{x}/{y}&#x27;,\n",
              "        {\n",
              "        &quot;attribution&quot;: &quot;Map Data &amp;copy; &lt;a href=\\&quot;https://earthengine.google.com/\\&quot;&gt;Google Earth Engine&lt;/a&gt;&quot;,\n",
              "        &quot;detectRetina&quot;: false,\n",
              "        &quot;maxNativeZoom&quot;: 18,\n",
              "        &quot;maxZoom&quot;: 18,\n",
              "        &quot;minZoom&quot;: 0,\n",
              "        &quot;noWrap&quot;: false,\n",
              "        &quot;opacity&quot;: 1,\n",
              "        &quot;subdomains&quot;: &quot;abc&quot;,\n",
              "        &quot;tms&quot;: false\n",
              "}).addTo(map_adcb47f72da5d0222fae8868882d9362);\n",
              "    \n",
              "            var layer_control_c4e720176ba1d5842c825034a5faba81 = {\n",
              "                base_layers : { &quot;openstreetmap&quot; : tile_layer_e7af85108d31601c8b66e7ee5c3b2d8b, },\n",
              "                overlays : { &quot;RGB_L2A&quot; : tile_layer_cd790062803b506c2e050138cbd81e11,&quot;BLUE_L2A&quot; : tile_layer_30c71d25eaa56b8dc076771d56154ec4, }\n",
              "                };\n",
              "            L.control.layers(\n",
              "                layer_control_c4e720176ba1d5842c825034a5faba81.base_layers,\n",
              "                layer_control_c4e720176ba1d5842c825034a5faba81.overlays,\n",
              "                {position: &#x27;topright&#x27;,\n",
              "                 collapsed: true,\n",
              "                 autoZIndex: true\n",
              "                }).addTo(map_adcb47f72da5d0222fae8868882d9362);\n",
              "            \n",
              "        \n",
              "&lt;/script&gt;\" style=\"position:absolute;width:100%;height:100%;left:0;top:0;border:none !important;\" allowfullscreen webkitallowfullscreen mozallowfullscreen></iframe></div></div>"
            ]
          },
          "metadata": {}
        }
      ]
    },
    {
      "cell_type": "code",
      "source": [
        "trainphoton"
      ],
      "metadata": {
        "colab": {
          "base_uri": "https://localhost:8080/",
          "height": 424
        },
        "id": "N25JGSKKvLa_",
        "outputId": "54d2bba7-4d56-4807-9edd-cd67a8430dae"
      },
      "execution_count": null,
      "outputs": [
        {
          "output_type": "execute_result",
          "data": {
            "text/plain": [
              "        latitude   longitude  photon height  confidence code\n",
              "32772  12.614146  101.378301     -27.703670                4\n",
              "32816  12.614064  101.378292     -27.048449                4\n",
              "32853  12.613981  101.378283     -27.056513                4\n",
              "32878  12.613949  101.378280     -27.111288                4\n",
              "32879  12.613949  101.378280     -27.111906                4\n",
              "...          ...         ...            ...              ...\n",
              "32667  12.614306  101.378318     -25.762090                4\n",
              "32671  12.614300  101.378317     -25.826885                4\n",
              "32701  12.614261  101.378313     -25.799225                4\n",
              "32766  12.614166  101.378303     -25.822392                4\n",
              "32811  12.614070  101.378293     -25.842790                4\n",
              "\n",
              "[97 rows x 4 columns]"
            ],
            "text/html": [
              "\n",
              "  <div id=\"df-688d73e4-d547-454b-8120-1ba7963f7b02\">\n",
              "    <div class=\"colab-df-container\">\n",
              "      <div>\n",
              "<style scoped>\n",
              "    .dataframe tbody tr th:only-of-type {\n",
              "        vertical-align: middle;\n",
              "    }\n",
              "\n",
              "    .dataframe tbody tr th {\n",
              "        vertical-align: top;\n",
              "    }\n",
              "\n",
              "    .dataframe thead th {\n",
              "        text-align: right;\n",
              "    }\n",
              "</style>\n",
              "<table border=\"1\" class=\"dataframe\">\n",
              "  <thead>\n",
              "    <tr style=\"text-align: right;\">\n",
              "      <th></th>\n",
              "      <th>latitude</th>\n",
              "      <th>longitude</th>\n",
              "      <th>photon height</th>\n",
              "      <th>confidence code</th>\n",
              "    </tr>\n",
              "  </thead>\n",
              "  <tbody>\n",
              "    <tr>\n",
              "      <th>32772</th>\n",
              "      <td>12.614146</td>\n",
              "      <td>101.378301</td>\n",
              "      <td>-27.703670</td>\n",
              "      <td>4</td>\n",
              "    </tr>\n",
              "    <tr>\n",
              "      <th>32816</th>\n",
              "      <td>12.614064</td>\n",
              "      <td>101.378292</td>\n",
              "      <td>-27.048449</td>\n",
              "      <td>4</td>\n",
              "    </tr>\n",
              "    <tr>\n",
              "      <th>32853</th>\n",
              "      <td>12.613981</td>\n",
              "      <td>101.378283</td>\n",
              "      <td>-27.056513</td>\n",
              "      <td>4</td>\n",
              "    </tr>\n",
              "    <tr>\n",
              "      <th>32878</th>\n",
              "      <td>12.613949</td>\n",
              "      <td>101.378280</td>\n",
              "      <td>-27.111288</td>\n",
              "      <td>4</td>\n",
              "    </tr>\n",
              "    <tr>\n",
              "      <th>32879</th>\n",
              "      <td>12.613949</td>\n",
              "      <td>101.378280</td>\n",
              "      <td>-27.111906</td>\n",
              "      <td>4</td>\n",
              "    </tr>\n",
              "    <tr>\n",
              "      <th>...</th>\n",
              "      <td>...</td>\n",
              "      <td>...</td>\n",
              "      <td>...</td>\n",
              "      <td>...</td>\n",
              "    </tr>\n",
              "    <tr>\n",
              "      <th>32667</th>\n",
              "      <td>12.614306</td>\n",
              "      <td>101.378318</td>\n",
              "      <td>-25.762090</td>\n",
              "      <td>4</td>\n",
              "    </tr>\n",
              "    <tr>\n",
              "      <th>32671</th>\n",
              "      <td>12.614300</td>\n",
              "      <td>101.378317</td>\n",
              "      <td>-25.826885</td>\n",
              "      <td>4</td>\n",
              "    </tr>\n",
              "    <tr>\n",
              "      <th>32701</th>\n",
              "      <td>12.614261</td>\n",
              "      <td>101.378313</td>\n",
              "      <td>-25.799225</td>\n",
              "      <td>4</td>\n",
              "    </tr>\n",
              "    <tr>\n",
              "      <th>32766</th>\n",
              "      <td>12.614166</td>\n",
              "      <td>101.378303</td>\n",
              "      <td>-25.822392</td>\n",
              "      <td>4</td>\n",
              "    </tr>\n",
              "    <tr>\n",
              "      <th>32811</th>\n",
              "      <td>12.614070</td>\n",
              "      <td>101.378293</td>\n",
              "      <td>-25.842790</td>\n",
              "      <td>4</td>\n",
              "    </tr>\n",
              "  </tbody>\n",
              "</table>\n",
              "<p>97 rows × 4 columns</p>\n",
              "</div>\n",
              "      <button class=\"colab-df-convert\" onclick=\"convertToInteractive('df-688d73e4-d547-454b-8120-1ba7963f7b02')\"\n",
              "              title=\"Convert this dataframe to an interactive table.\"\n",
              "              style=\"display:none;\">\n",
              "        \n",
              "  <svg xmlns=\"http://www.w3.org/2000/svg\" height=\"24px\"viewBox=\"0 0 24 24\"\n",
              "       width=\"24px\">\n",
              "    <path d=\"M0 0h24v24H0V0z\" fill=\"none\"/>\n",
              "    <path d=\"M18.56 5.44l.94 2.06.94-2.06 2.06-.94-2.06-.94-.94-2.06-.94 2.06-2.06.94zm-11 1L8.5 8.5l.94-2.06 2.06-.94-2.06-.94L8.5 2.5l-.94 2.06-2.06.94zm10 10l.94 2.06.94-2.06 2.06-.94-2.06-.94-.94-2.06-.94 2.06-2.06.94z\"/><path d=\"M17.41 7.96l-1.37-1.37c-.4-.4-.92-.59-1.43-.59-.52 0-1.04.2-1.43.59L10.3 9.45l-7.72 7.72c-.78.78-.78 2.05 0 2.83L4 21.41c.39.39.9.59 1.41.59.51 0 1.02-.2 1.41-.59l7.78-7.78 2.81-2.81c.8-.78.8-2.07 0-2.86zM5.41 20L4 18.59l7.72-7.72 1.47 1.35L5.41 20z\"/>\n",
              "  </svg>\n",
              "      </button>\n",
              "      \n",
              "  <style>\n",
              "    .colab-df-container {\n",
              "      display:flex;\n",
              "      flex-wrap:wrap;\n",
              "      gap: 12px;\n",
              "    }\n",
              "\n",
              "    .colab-df-convert {\n",
              "      background-color: #E8F0FE;\n",
              "      border: none;\n",
              "      border-radius: 50%;\n",
              "      cursor: pointer;\n",
              "      display: none;\n",
              "      fill: #1967D2;\n",
              "      height: 32px;\n",
              "      padding: 0 0 0 0;\n",
              "      width: 32px;\n",
              "    }\n",
              "\n",
              "    .colab-df-convert:hover {\n",
              "      background-color: #E2EBFA;\n",
              "      box-shadow: 0px 1px 2px rgba(60, 64, 67, 0.3), 0px 1px 3px 1px rgba(60, 64, 67, 0.15);\n",
              "      fill: #174EA6;\n",
              "    }\n",
              "\n",
              "    [theme=dark] .colab-df-convert {\n",
              "      background-color: #3B4455;\n",
              "      fill: #D2E3FC;\n",
              "    }\n",
              "\n",
              "    [theme=dark] .colab-df-convert:hover {\n",
              "      background-color: #434B5C;\n",
              "      box-shadow: 0px 1px 3px 1px rgba(0, 0, 0, 0.15);\n",
              "      filter: drop-shadow(0px 1px 2px rgba(0, 0, 0, 0.3));\n",
              "      fill: #FFFFFF;\n",
              "    }\n",
              "  </style>\n",
              "\n",
              "      <script>\n",
              "        const buttonEl =\n",
              "          document.querySelector('#df-688d73e4-d547-454b-8120-1ba7963f7b02 button.colab-df-convert');\n",
              "        buttonEl.style.display =\n",
              "          google.colab.kernel.accessAllowed ? 'block' : 'none';\n",
              "\n",
              "        async function convertToInteractive(key) {\n",
              "          const element = document.querySelector('#df-688d73e4-d547-454b-8120-1ba7963f7b02');\n",
              "          const dataTable =\n",
              "            await google.colab.kernel.invokeFunction('convertToInteractive',\n",
              "                                                     [key], {});\n",
              "          if (!dataTable) return;\n",
              "\n",
              "          const docLinkHtml = 'Like what you see? Visit the ' +\n",
              "            '<a target=\"_blank\" href=https://colab.research.google.com/notebooks/data_table.ipynb>data table notebook</a>'\n",
              "            + ' to learn more about interactive tables.';\n",
              "          element.innerHTML = '';\n",
              "          dataTable['output_type'] = 'display_data';\n",
              "          await google.colab.output.renderOutput(dataTable, element);\n",
              "          const docLink = document.createElement('div');\n",
              "          docLink.innerHTML = docLinkHtml;\n",
              "          element.appendChild(docLink);\n",
              "        }\n",
              "      </script>\n",
              "    </div>\n",
              "  </div>\n",
              "  "
            ]
          },
          "metadata": {},
          "execution_count": 88
        }
      ]
    },
    {
      "cell_type": "markdown",
      "source": [
        "get raster value for sdb production .."
      ],
      "metadata": {
        "id": "442y1VnvBZ0m"
      }
    },
    {
      "cell_type": "code",
      "source": [
        "# SDB Calculate\n",
        "nB2 = (image.select('B2_lm')).multiply(1000)\n",
        "nB3 = (image.select('B3_lm')).multiply(1000)\n",
        "lnB2perlnB3 = (nB2.log()).divide(nB3.log())\n",
        "image = image.addBands(lnB2perlnB3.rename('lnB2perlnB3'))\n",
        "\n",
        "  def getvalue(vec) :\n",
        "    lat,lng = vec\n",
        "    u_poi = ee.Geometry.Point([lng,  \tlat ])\n",
        "    band = image.select('lnB2perlnB3')\n",
        "    mydata = band.sample(u_poi, 10).getInfo()\n",
        "    mylist = (mydata)['features']\n",
        "    if mylist != [] :\n",
        "      v1 = ((mylist[0])['properties'])['lnB2perlnB3']\n",
        "    else :\n",
        "      v1 = None \n",
        "    return [v1]\n",
        "\n",
        "trainphoton['lnB2perlnB3'] = trainphoton[['latitude', 'longitude']].apply(getvalue, axis=1,  result_type ='expand')"
      ],
      "metadata": {
        "id": "_L61XCrZswtg"
      },
      "execution_count": null,
      "outputs": []
    },
    {
      "cell_type": "code",
      "source": [
        "trainphoton"
      ],
      "metadata": {
        "colab": {
          "base_uri": "https://localhost:8080/",
          "height": 424
        },
        "id": "KT0fSm1Zwz7v",
        "outputId": "a4e42e11-92a1-402d-f68e-9aa35fb03c93"
      },
      "execution_count": null,
      "outputs": [
        {
          "output_type": "execute_result",
          "data": {
            "text/plain": [
              "        latitude   longitude  photon height  confidence code  lnB2perlnB3\n",
              "32772  12.614146  101.378301     -27.703670                4     0.917257\n",
              "32816  12.614064  101.378292     -27.048449                4     0.914222\n",
              "32853  12.613981  101.378283     -27.056513                4     0.917256\n",
              "32878  12.613949  101.378280     -27.111288                4     0.917256\n",
              "32879  12.613949  101.378280     -27.111906                4     0.917256\n",
              "...          ...         ...            ...              ...          ...\n",
              "32667  12.614306  101.378318     -25.762090                4     0.917893\n",
              "32671  12.614300  101.378317     -25.826885                4     0.917893\n",
              "32701  12.614261  101.378313     -25.799225                4     0.917893\n",
              "32766  12.614166  101.378303     -25.822392                4     0.917257\n",
              "32811  12.614070  101.378293     -25.842790                4     0.914222\n",
              "\n",
              "[97 rows x 5 columns]"
            ],
            "text/html": [
              "\n",
              "  <div id=\"df-aaaaafdd-2c5e-4bf2-83ff-6e13dd60fe77\">\n",
              "    <div class=\"colab-df-container\">\n",
              "      <div>\n",
              "<style scoped>\n",
              "    .dataframe tbody tr th:only-of-type {\n",
              "        vertical-align: middle;\n",
              "    }\n",
              "\n",
              "    .dataframe tbody tr th {\n",
              "        vertical-align: top;\n",
              "    }\n",
              "\n",
              "    .dataframe thead th {\n",
              "        text-align: right;\n",
              "    }\n",
              "</style>\n",
              "<table border=\"1\" class=\"dataframe\">\n",
              "  <thead>\n",
              "    <tr style=\"text-align: right;\">\n",
              "      <th></th>\n",
              "      <th>latitude</th>\n",
              "      <th>longitude</th>\n",
              "      <th>photon height</th>\n",
              "      <th>confidence code</th>\n",
              "      <th>lnB2perlnB3</th>\n",
              "    </tr>\n",
              "  </thead>\n",
              "  <tbody>\n",
              "    <tr>\n",
              "      <th>32772</th>\n",
              "      <td>12.614146</td>\n",
              "      <td>101.378301</td>\n",
              "      <td>-27.703670</td>\n",
              "      <td>4</td>\n",
              "      <td>0.917257</td>\n",
              "    </tr>\n",
              "    <tr>\n",
              "      <th>32816</th>\n",
              "      <td>12.614064</td>\n",
              "      <td>101.378292</td>\n",
              "      <td>-27.048449</td>\n",
              "      <td>4</td>\n",
              "      <td>0.914222</td>\n",
              "    </tr>\n",
              "    <tr>\n",
              "      <th>32853</th>\n",
              "      <td>12.613981</td>\n",
              "      <td>101.378283</td>\n",
              "      <td>-27.056513</td>\n",
              "      <td>4</td>\n",
              "      <td>0.917256</td>\n",
              "    </tr>\n",
              "    <tr>\n",
              "      <th>32878</th>\n",
              "      <td>12.613949</td>\n",
              "      <td>101.378280</td>\n",
              "      <td>-27.111288</td>\n",
              "      <td>4</td>\n",
              "      <td>0.917256</td>\n",
              "    </tr>\n",
              "    <tr>\n",
              "      <th>32879</th>\n",
              "      <td>12.613949</td>\n",
              "      <td>101.378280</td>\n",
              "      <td>-27.111906</td>\n",
              "      <td>4</td>\n",
              "      <td>0.917256</td>\n",
              "    </tr>\n",
              "    <tr>\n",
              "      <th>...</th>\n",
              "      <td>...</td>\n",
              "      <td>...</td>\n",
              "      <td>...</td>\n",
              "      <td>...</td>\n",
              "      <td>...</td>\n",
              "    </tr>\n",
              "    <tr>\n",
              "      <th>32667</th>\n",
              "      <td>12.614306</td>\n",
              "      <td>101.378318</td>\n",
              "      <td>-25.762090</td>\n",
              "      <td>4</td>\n",
              "      <td>0.917893</td>\n",
              "    </tr>\n",
              "    <tr>\n",
              "      <th>32671</th>\n",
              "      <td>12.614300</td>\n",
              "      <td>101.378317</td>\n",
              "      <td>-25.826885</td>\n",
              "      <td>4</td>\n",
              "      <td>0.917893</td>\n",
              "    </tr>\n",
              "    <tr>\n",
              "      <th>32701</th>\n",
              "      <td>12.614261</td>\n",
              "      <td>101.378313</td>\n",
              "      <td>-25.799225</td>\n",
              "      <td>4</td>\n",
              "      <td>0.917893</td>\n",
              "    </tr>\n",
              "    <tr>\n",
              "      <th>32766</th>\n",
              "      <td>12.614166</td>\n",
              "      <td>101.378303</td>\n",
              "      <td>-25.822392</td>\n",
              "      <td>4</td>\n",
              "      <td>0.917257</td>\n",
              "    </tr>\n",
              "    <tr>\n",
              "      <th>32811</th>\n",
              "      <td>12.614070</td>\n",
              "      <td>101.378293</td>\n",
              "      <td>-25.842790</td>\n",
              "      <td>4</td>\n",
              "      <td>0.914222</td>\n",
              "    </tr>\n",
              "  </tbody>\n",
              "</table>\n",
              "<p>97 rows × 5 columns</p>\n",
              "</div>\n",
              "      <button class=\"colab-df-convert\" onclick=\"convertToInteractive('df-aaaaafdd-2c5e-4bf2-83ff-6e13dd60fe77')\"\n",
              "              title=\"Convert this dataframe to an interactive table.\"\n",
              "              style=\"display:none;\">\n",
              "        \n",
              "  <svg xmlns=\"http://www.w3.org/2000/svg\" height=\"24px\"viewBox=\"0 0 24 24\"\n",
              "       width=\"24px\">\n",
              "    <path d=\"M0 0h24v24H0V0z\" fill=\"none\"/>\n",
              "    <path d=\"M18.56 5.44l.94 2.06.94-2.06 2.06-.94-2.06-.94-.94-2.06-.94 2.06-2.06.94zm-11 1L8.5 8.5l.94-2.06 2.06-.94-2.06-.94L8.5 2.5l-.94 2.06-2.06.94zm10 10l.94 2.06.94-2.06 2.06-.94-2.06-.94-.94-2.06-.94 2.06-2.06.94z\"/><path d=\"M17.41 7.96l-1.37-1.37c-.4-.4-.92-.59-1.43-.59-.52 0-1.04.2-1.43.59L10.3 9.45l-7.72 7.72c-.78.78-.78 2.05 0 2.83L4 21.41c.39.39.9.59 1.41.59.51 0 1.02-.2 1.41-.59l7.78-7.78 2.81-2.81c.8-.78.8-2.07 0-2.86zM5.41 20L4 18.59l7.72-7.72 1.47 1.35L5.41 20z\"/>\n",
              "  </svg>\n",
              "      </button>\n",
              "      \n",
              "  <style>\n",
              "    .colab-df-container {\n",
              "      display:flex;\n",
              "      flex-wrap:wrap;\n",
              "      gap: 12px;\n",
              "    }\n",
              "\n",
              "    .colab-df-convert {\n",
              "      background-color: #E8F0FE;\n",
              "      border: none;\n",
              "      border-radius: 50%;\n",
              "      cursor: pointer;\n",
              "      display: none;\n",
              "      fill: #1967D2;\n",
              "      height: 32px;\n",
              "      padding: 0 0 0 0;\n",
              "      width: 32px;\n",
              "    }\n",
              "\n",
              "    .colab-df-convert:hover {\n",
              "      background-color: #E2EBFA;\n",
              "      box-shadow: 0px 1px 2px rgba(60, 64, 67, 0.3), 0px 1px 3px 1px rgba(60, 64, 67, 0.15);\n",
              "      fill: #174EA6;\n",
              "    }\n",
              "\n",
              "    [theme=dark] .colab-df-convert {\n",
              "      background-color: #3B4455;\n",
              "      fill: #D2E3FC;\n",
              "    }\n",
              "\n",
              "    [theme=dark] .colab-df-convert:hover {\n",
              "      background-color: #434B5C;\n",
              "      box-shadow: 0px 1px 3px 1px rgba(0, 0, 0, 0.15);\n",
              "      filter: drop-shadow(0px 1px 2px rgba(0, 0, 0, 0.3));\n",
              "      fill: #FFFFFF;\n",
              "    }\n",
              "  </style>\n",
              "\n",
              "      <script>\n",
              "        const buttonEl =\n",
              "          document.querySelector('#df-aaaaafdd-2c5e-4bf2-83ff-6e13dd60fe77 button.colab-df-convert');\n",
              "        buttonEl.style.display =\n",
              "          google.colab.kernel.accessAllowed ? 'block' : 'none';\n",
              "\n",
              "        async function convertToInteractive(key) {\n",
              "          const element = document.querySelector('#df-aaaaafdd-2c5e-4bf2-83ff-6e13dd60fe77');\n",
              "          const dataTable =\n",
              "            await google.colab.kernel.invokeFunction('convertToInteractive',\n",
              "                                                     [key], {});\n",
              "          if (!dataTable) return;\n",
              "\n",
              "          const docLinkHtml = 'Like what you see? Visit the ' +\n",
              "            '<a target=\"_blank\" href=https://colab.research.google.com/notebooks/data_table.ipynb>data table notebook</a>'\n",
              "            + ' to learn more about interactive tables.';\n",
              "          element.innerHTML = '';\n",
              "          dataTable['output_type'] = 'display_data';\n",
              "          await google.colab.output.renderOutput(dataTable, element);\n",
              "          const docLink = document.createElement('div');\n",
              "          docLink.innerHTML = docLinkHtml;\n",
              "          element.appendChild(docLink);\n",
              "        }\n",
              "      </script>\n",
              "    </div>\n",
              "  </div>\n",
              "  "
            ]
          },
          "metadata": {},
          "execution_count": 101
        }
      ]
    },
    {
      "cell_type": "code",
      "source": [
        "trainphoton = trainphoton[~trainphoton['lnB2perlnB3'].isna()]"
      ],
      "metadata": {
        "id": "5RDKbOzexstx"
      },
      "execution_count": null,
      "outputs": []
    },
    {
      "cell_type": "code",
      "source": [
        "photonplot(trainphoton['lnB2perlnB3'],trainphoton['photon height'])"
      ],
      "metadata": {
        "colab": {
          "base_uri": "https://localhost:8080/",
          "height": 295
        },
        "id": "hcnS4ae9w9wr",
        "outputId": "647eb9c0-ea1c-4b93-85a4-b056d8674fab"
      },
      "execution_count": null,
      "outputs": [
        {
          "output_type": "display_data",
          "data": {
            "text/plain": [
              "<Figure size 432x288 with 1 Axes>"
            ],
            "image/png": "[encoded data removed]"
          },
          "metadata": {
            "needs_background": "light"
          }
        }
      ]
    },
    {
      "cell_type": "markdown",
      "source": [
        "bathymetry production -- stumpf algorithm for ellipsoidal height of sea floor"
      ],
      "metadata": {
        "id": "GErNeKDaBiqL"
      }
    },
    {
      "cell_type": "code",
      "source": [
        "x_ST = (trainphoton[['lnB2perlnB3']].values).reshape((-1,1)) \n",
        "y = (trainphoton[['photon height']].values)\n",
        "model_sdb_st = LinearRegression().fit(x_ST,y)\n",
        "print('Stumpf', model_sdb_st.score(x_ST,y), model_sdb_st.intercept_, float(model_sdb_st.coef_) )\n",
        "plt.scatter(x_ST, y, color = 'black')\n",
        "plt.plot(x_ST, model_sdb_st.predict(x_ST), color = 'blue', linewidth = 3)\n",
        "plt.show()"
      ],
      "metadata": {
        "colab": {
          "base_uri": "https://localhost:8080/",
          "height": 282
        },
        "id": "fuC9eZ5WwpO6",
        "outputId": "f69da360-640a-4c29-a633-50fda923c6b7"
      },
      "execution_count": null,
      "outputs": [
        {
          "output_type": "stream",
          "name": "stdout",
          "text": [
            "Stumpf 0.8033893214070721 [63.76122392] -98.71579611578942\n"
          ]
        },
        {
          "output_type": "display_data",
          "data": {
            "text/plain": [
              "<Figure size 432x288 with 1 Axes>"
            ],
            "image/png": "[encoded data removed]"
          },
          "metadata": {
            "needs_background": "light"
          }
        }
      ]
    },
    {
      "cell_type": "code",
      "source": [
        "SDB_ST = ((image.select('lnB2perlnB3')).multiply(float(model_sdb_st.coef_))).add(float(model_sdb_st.intercept_))  \n",
        "#SDB_ST = m0 + m1((ln1000B2)/(ln1000B3))\n",
        "image = image.addBands(SDB_ST.rename('SDB_ST'))\n",
        "print('Stumpf finish ....')"
      ],
      "metadata": {
        "colab": {
          "base_uri": "https://localhost:8080/"
        },
        "id": "uVSaPeTgyBSH",
        "outputId": "1b650079-fdc0-4ecf-ecba-359bdd89ece1"
      },
      "execution_count": null,
      "outputs": [
        {
          "output_type": "stream",
          "name": "stdout",
          "text": [
            "Stumpf finish ....\n"
          ]
        }
      ]
    },
    {
      "cell_type": "code",
      "source": [
        "############### VISUALIZATION ############################## \n",
        "folium.Map.add_ee_layer = add_ee_layer\n",
        "c = (AOI.centroid().getInfo())['coordinates']\n",
        "map_matched = folium.Map(location=[c[1], c[0]], zoom_start=12)\n",
        "\n",
        "depth_palette = ['blue','cyan', 'green','orange', 'red']\n",
        "\n",
        "map_matched.add_ee_layer(image,{'min':0, 'max':0.3, 'bands':['B4','B3','B2']},'RGB_L2A')\n",
        "map_matched.add_ee_layer(image,{'min':-36, 'max':-26, 'bands':['SDB_ST'], 'palette' : depth_palette},'h')\n",
        "\n",
        "display(map_matched.add_child(folium.LayerControl()))"
      ],
      "metadata": {
        "colab": {
          "base_uri": "https://localhost:8080/",
          "height": 735
        },
        "id": "7SRxkCe3yKl1",
        "outputId": "733e96ad-4724-4eae-936b-b6cbe03bdda1"
      },
      "execution_count": null,
      "outputs": [
        {
          "output_type": "display_data",
          "data": {
            "text/plain": [
              "<folium.folium.Map at 0x7f56d18418d0>"
            ],
            "text/html": [
              "<div style=\"width:100%;\"><div style=\"position:relative;width:100%;height:0;padding-bottom:60%;\"><span style=\"color:#565656\">Make this Notebook Trusted to load map: File -> Trust Notebook</span><iframe srcdoc=\"&lt;!DOCTYPE html&gt;\n",
              "&lt;head&gt;    \n",
              "    &lt;meta http-equiv=&quot;content-type&quot; content=&quot;text/html; charset=UTF-8&quot; /&gt;\n",
              "    &lt;script&gt;L_PREFER_CANVAS=false; L_NO_TOUCH=false; L_DISABLE_3D=false;&lt;/script&gt;\n",
              "    &lt;script src=&quot;https://cdn.jsdelivr.net/npm/leaflet@1.4.0/dist/leaflet.js&quot;&gt;&lt;/script&gt;\n",
              "    &lt;script src=&quot;https://code.jquery.com/jquery-1.12.4.min.js&quot;&gt;&lt;/script&gt;\n",
              "    &lt;script src=&quot;https://maxcdn.bootstrapcdn.com/bootstrap/3.2.0/js/bootstrap.min.js&quot;&gt;&lt;/script&gt;\n",
              "    &lt;script src=&quot;https://cdnjs.cloudflare.com/ajax/libs/Leaflet.awesome-markers/2.0.2/leaflet.awesome-markers.js&quot;&gt;&lt;/script&gt;\n",
              "    &lt;link rel=&quot;stylesheet&quot; href=&quot;https://cdn.jsdelivr.net/npm/leaflet@1.4.0/dist/leaflet.css&quot;/&gt;\n",
              "    &lt;link rel=&quot;stylesheet&quot; href=&quot;https://maxcdn.bootstrapcdn.com/bootstrap/3.2.0/css/bootstrap.min.css&quot;/&gt;\n",
              "    &lt;link rel=&quot;stylesheet&quot; href=&quot;https://maxcdn.bootstrapcdn.com/bootstrap/3.2.0/css/bootstrap-theme.min.css&quot;/&gt;\n",
              "    &lt;link rel=&quot;stylesheet&quot; href=&quot;https://maxcdn.bootstrapcdn.com/font-awesome/4.6.3/css/font-awesome.min.css&quot;/&gt;\n",
              "    &lt;link rel=&quot;stylesheet&quot; href=&quot;https://cdnjs.cloudflare.com/ajax/libs/Leaflet.awesome-markers/2.0.2/leaflet.awesome-markers.css&quot;/&gt;\n",
              "    &lt;link rel=&quot;stylesheet&quot; href=&quot;https://rawcdn.githack.com/python-visualization/folium/master/folium/templates/leaflet.awesome.rotate.css&quot;/&gt;\n",
              "    &lt;style&gt;html, body {width: 100%;height: 100%;margin: 0;padding: 0;}&lt;/style&gt;\n",
              "    &lt;style&gt;#map {position:absolute;top:0;bottom:0;right:0;left:0;}&lt;/style&gt;\n",
              "    \n",
              "    &lt;meta name=&quot;viewport&quot; content=&quot;width=device-width,\n",
              "        initial-scale=1.0, maximum-scale=1.0, user-scalable=no&quot; /&gt;\n",
              "    &lt;style&gt;#map_881c2d607a9e3da4d9b4a101ac0f6e84 {\n",
              "        position: relative;\n",
              "        width: 100.0%;\n",
              "        height: 100.0%;\n",
              "        left: 0.0%;\n",
              "        top: 0.0%;\n",
              "        }\n",
              "    &lt;/style&gt;\n",
              "&lt;/head&gt;\n",
              "&lt;body&gt;    \n",
              "    \n",
              "    &lt;div class=&quot;folium-map&quot; id=&quot;map_881c2d607a9e3da4d9b4a101ac0f6e84&quot; &gt;&lt;/div&gt;\n",
              "&lt;/body&gt;\n",
              "&lt;script&gt;    \n",
              "    \n",
              "    \n",
              "        var bounds = null;\n",
              "    \n",
              "\n",
              "    var map_881c2d607a9e3da4d9b4a101ac0f6e84 = L.map(\n",
              "        &#x27;map_881c2d607a9e3da4d9b4a101ac0f6e84&#x27;, {\n",
              "        center: [12.580315013034324, 101.40741500000003],\n",
              "        zoom: 12,\n",
              "        maxBounds: bounds,\n",
              "        layers: [],\n",
              "        worldCopyJump: false,\n",
              "        crs: L.CRS.EPSG3857,\n",
              "        zoomControl: true,\n",
              "        });\n",
              "\n",
              "\n",
              "    \n",
              "    var tile_layer_c73409dec23478237e8ef4e4adc3fa6e = L.tileLayer(\n",
              "        &#x27;https://{s}.tile.openstreetmap.org/{z}/{x}/{y}.png&#x27;,\n",
              "        {\n",
              "        &quot;attribution&quot;: null,\n",
              "        &quot;detectRetina&quot;: false,\n",
              "        &quot;maxNativeZoom&quot;: 18,\n",
              "        &quot;maxZoom&quot;: 18,\n",
              "        &quot;minZoom&quot;: 0,\n",
              "        &quot;noWrap&quot;: false,\n",
              "        &quot;opacity&quot;: 1,\n",
              "        &quot;subdomains&quot;: &quot;abc&quot;,\n",
              "        &quot;tms&quot;: false\n",
              "}).addTo(map_881c2d607a9e3da4d9b4a101ac0f6e84);\n",
              "    var tile_layer_c6a1c486b371da9b888beb79fa60b4a8 = L.tileLayer(\n",
              "        &#x27;https://earthengine.googleapis.com/v1alpha/projects/earthengine-legacy/maps/d22749886dbb496c76c1d8165354d340-7cc11fada1c334f3b2e512ea373a4107/tiles/{z}/{x}/{y}&#x27;,\n",
              "        {\n",
              "        &quot;attribution&quot;: &quot;Map Data &amp;copy; &lt;a href=\\&quot;https://earthengine.google.com/\\&quot;&gt;Google Earth Engine&lt;/a&gt;&quot;,\n",
              "        &quot;detectRetina&quot;: false,\n",
              "        &quot;maxNativeZoom&quot;: 18,\n",
              "        &quot;maxZoom&quot;: 18,\n",
              "        &quot;minZoom&quot;: 0,\n",
              "        &quot;noWrap&quot;: false,\n",
              "        &quot;opacity&quot;: 1,\n",
              "        &quot;subdomains&quot;: &quot;abc&quot;,\n",
              "        &quot;tms&quot;: false\n",
              "}).addTo(map_881c2d607a9e3da4d9b4a101ac0f6e84);\n",
              "    var tile_layer_b2f16657fdfdd7c5c22211945b792c5d = L.tileLayer(\n",
              "        &#x27;https://earthengine.googleapis.com/v1alpha/projects/earthengine-legacy/maps/8fd8d20af116b15a44c06819850ffc2c-b9bad153cbb41a27a28f60e5b3d2c98a/tiles/{z}/{x}/{y}&#x27;,\n",
              "        {\n",
              "        &quot;attribution&quot;: &quot;Map Data &amp;copy; &lt;a href=\\&quot;https://earthengine.google.com/\\&quot;&gt;Google Earth Engine&lt;/a&gt;&quot;,\n",
              "        &quot;detectRetina&quot;: false,\n",
              "        &quot;maxNativeZoom&quot;: 18,\n",
              "        &quot;maxZoom&quot;: 18,\n",
              "        &quot;minZoom&quot;: 0,\n",
              "        &quot;noWrap&quot;: false,\n",
              "        &quot;opacity&quot;: 1,\n",
              "        &quot;subdomains&quot;: &quot;abc&quot;,\n",
              "        &quot;tms&quot;: false\n",
              "}).addTo(map_881c2d607a9e3da4d9b4a101ac0f6e84);\n",
              "    \n",
              "            var layer_control_440d6eb509b900fa399dd10024c04aa9 = {\n",
              "                base_layers : { &quot;openstreetmap&quot; : tile_layer_c73409dec23478237e8ef4e4adc3fa6e, },\n",
              "                overlays : { &quot;RGB_L2A&quot; : tile_layer_c6a1c486b371da9b888beb79fa60b4a8,&quot;h&quot; : tile_layer_b2f16657fdfdd7c5c22211945b792c5d, }\n",
              "                };\n",
              "            L.control.layers(\n",
              "                layer_control_440d6eb509b900fa399dd10024c04aa9.base_layers,\n",
              "                layer_control_440d6eb509b900fa399dd10024c04aa9.overlays,\n",
              "                {position: &#x27;topright&#x27;,\n",
              "                 collapsed: true,\n",
              "                 autoZIndex: true\n",
              "                }).addTo(map_881c2d607a9e3da4d9b4a101ac0f6e84);\n",
              "            \n",
              "        \n",
              "&lt;/script&gt;\" style=\"position:absolute;width:100%;height:100%;left:0;top:0;border:none !important;\" allowfullscreen webkitallowfullscreen mozallowfullscreen></iframe></div></div>"
            ]
          },
          "metadata": {}
        }
      ]
    },
    {
      "cell_type": "markdown",
      "source": [
        "try convert to orthometric height ..."
      ],
      "metadata": {
        "id": "K1omGqTtB3e1"
      }
    },
    {
      "cell_type": "code",
      "source": [
        "def MSL(vec):\n",
        "    lat,lon,h = vec\n",
        "    geoid_model = '/content/drive/MyDrive/SeniorProject/tgm2017-1.pgm'    # <---- get your geoid model file\n",
        "    geoid_interpolator = pygeodesy.GeoidKarney(geoid_model)\n",
        "    # Get the geoid height\n",
        "    pos = LatLon(lat, lon)\n",
        "    N = geoid_interpolator(pos)\n",
        "    return h-N\n",
        "trainphoton['H'] = trainphoton[['latitude', 'longitude', 'photon height']].apply(MSL, axis=1)"
      ],
      "metadata": {
        "colab": {
          "base_uri": "https://localhost:8080/"
        },
        "id": "zKsyI4Mx0PnG",
        "outputId": "50d7213c-f888-4fe9-bdc1-4341aa5caa2a"
      },
      "execution_count": null,
      "outputs": [
        {
          "output_type": "stream",
          "name": "stderr",
          "text": [
            "/usr/local/lib/python3.7/dist-packages/ipykernel_launcher.py:9: SettingWithCopyWarning: \n",
            "A value is trying to be set on a copy of a slice from a DataFrame.\n",
            "Try using .loc[row_indexer,col_indexer] = value instead\n",
            "\n",
            "See the caveats in the documentation: https://pandas.pydata.org/pandas-docs/stable/user_guide/indexing.html#returning-a-view-versus-a-copy\n",
            "  if __name__ == '__main__':\n"
          ]
        }
      ]
    },
    {
      "cell_type": "code",
      "source": [
        "trainphoton"
      ],
      "metadata": {
        "colab": {
          "base_uri": "https://localhost:8080/",
          "height": 424
        },
        "id": "BmvekLA20dGj",
        "outputId": "c6487772-a503-490c-a68b-0e2cedff9923"
      },
      "execution_count": null,
      "outputs": [
        {
          "output_type": "execute_result",
          "data": {
            "text/plain": [
              "        latitude   longitude  photon height  confidence code  lnB2perlnB3  \\\n",
              "32772  12.614146  101.378301     -27.703670                4     0.917257   \n",
              "32816  12.614064  101.378292     -27.048449                4     0.914222   \n",
              "32853  12.613981  101.378283     -27.056513                4     0.917256   \n",
              "32878  12.613949  101.378280     -27.111288                4     0.917256   \n",
              "32879  12.613949  101.378280     -27.111906                4     0.917256   \n",
              "...          ...         ...            ...              ...          ...   \n",
              "32667  12.614306  101.378318     -25.762090                4     0.917893   \n",
              "32671  12.614300  101.378317     -25.826885                4     0.917893   \n",
              "32701  12.614261  101.378313     -25.799225                4     0.917893   \n",
              "32766  12.614166  101.378303     -25.822392                4     0.917257   \n",
              "32811  12.614070  101.378293     -25.842790                4     0.914222   \n",
              "\n",
              "              H  \n",
              "32772 -1.722467  \n",
              "32816 -1.067378  \n",
              "32853 -1.075574  \n",
              "32878 -1.130400  \n",
              "32879 -1.131018  \n",
              "...         ...  \n",
              "32667  0.219371  \n",
              "32671  0.154566  \n",
              "32701  0.182164  \n",
              "32766  0.158842  \n",
              "32811  0.138292  \n",
              "\n",
              "[96 rows x 6 columns]"
            ],
            "text/html": [
              "\n",
              "  <div id=\"df-3e00b96e-a958-4d95-82b4-c015c4096c66\">\n",
              "    <div class=\"colab-df-container\">\n",
              "      <div>\n",
              "<style scoped>\n",
              "    .dataframe tbody tr th:only-of-type {\n",
              "        vertical-align: middle;\n",
              "    }\n",
              "\n",
              "    .dataframe tbody tr th {\n",
              "        vertical-align: top;\n",
              "    }\n",
              "\n",
              "    .dataframe thead th {\n",
              "        text-align: right;\n",
              "    }\n",
              "</style>\n",
              "<table border=\"1\" class=\"dataframe\">\n",
              "  <thead>\n",
              "    <tr style=\"text-align: right;\">\n",
              "      <th></th>\n",
              "      <th>latitude</th>\n",
              "      <th>longitude</th>\n",
              "      <th>photon height</th>\n",
              "      <th>confidence code</th>\n",
              "      <th>lnB2perlnB3</th>\n",
              "      <th>H</th>\n",
              "    </tr>\n",
              "  </thead>\n",
              "  <tbody>\n",
              "    <tr>\n",
              "      <th>32772</th>\n",
              "      <td>12.614146</td>\n",
              "      <td>101.378301</td>\n",
              "      <td>-27.703670</td>\n",
              "      <td>4</td>\n",
              "      <td>0.917257</td>\n",
              "      <td>-1.722467</td>\n",
              "    </tr>\n",
              "    <tr>\n",
              "      <th>32816</th>\n",
              "      <td>12.614064</td>\n",
              "      <td>101.378292</td>\n",
              "      <td>-27.048449</td>\n",
              "      <td>4</td>\n",
              "      <td>0.914222</td>\n",
              "      <td>-1.067378</td>\n",
              "    </tr>\n",
              "    <tr>\n",
              "      <th>32853</th>\n",
              "      <td>12.613981</td>\n",
              "      <td>101.378283</td>\n",
              "      <td>-27.056513</td>\n",
              "      <td>4</td>\n",
              "      <td>0.917256</td>\n",
              "      <td>-1.075574</td>\n",
              "    </tr>\n",
              "    <tr>\n",
              "      <th>32878</th>\n",
              "      <td>12.613949</td>\n",
              "      <td>101.378280</td>\n",
              "      <td>-27.111288</td>\n",
              "      <td>4</td>\n",
              "      <td>0.917256</td>\n",
              "      <td>-1.130400</td>\n",
              "    </tr>\n",
              "    <tr>\n",
              "      <th>32879</th>\n",
              "      <td>12.613949</td>\n",
              "      <td>101.378280</td>\n",
              "      <td>-27.111906</td>\n",
              "      <td>4</td>\n",
              "      <td>0.917256</td>\n",
              "      <td>-1.131018</td>\n",
              "    </tr>\n",
              "    <tr>\n",
              "      <th>...</th>\n",
              "      <td>...</td>\n",
              "      <td>...</td>\n",
              "      <td>...</td>\n",
              "      <td>...</td>\n",
              "      <td>...</td>\n",
              "      <td>...</td>\n",
              "    </tr>\n",
              "    <tr>\n",
              "      <th>32667</th>\n",
              "      <td>12.614306</td>\n",
              "      <td>101.378318</td>\n",
              "      <td>-25.762090</td>\n",
              "      <td>4</td>\n",
              "      <td>0.917893</td>\n",
              "      <td>0.219371</td>\n",
              "    </tr>\n",
              "    <tr>\n",
              "      <th>32671</th>\n",
              "      <td>12.614300</td>\n",
              "      <td>101.378317</td>\n",
              "      <td>-25.826885</td>\n",
              "      <td>4</td>\n",
              "      <td>0.917893</td>\n",
              "      <td>0.154566</td>\n",
              "    </tr>\n",
              "    <tr>\n",
              "      <th>32701</th>\n",
              "      <td>12.614261</td>\n",
              "      <td>101.378313</td>\n",
              "      <td>-25.799225</td>\n",
              "      <td>4</td>\n",
              "      <td>0.917893</td>\n",
              "      <td>0.182164</td>\n",
              "    </tr>\n",
              "    <tr>\n",
              "      <th>32766</th>\n",
              "      <td>12.614166</td>\n",
              "      <td>101.378303</td>\n",
              "      <td>-25.822392</td>\n",
              "      <td>4</td>\n",
              "      <td>0.917257</td>\n",
              "      <td>0.158842</td>\n",
              "    </tr>\n",
              "    <tr>\n",
              "      <th>32811</th>\n",
              "      <td>12.614070</td>\n",
              "      <td>101.378293</td>\n",
              "      <td>-25.842790</td>\n",
              "      <td>4</td>\n",
              "      <td>0.914222</td>\n",
              "      <td>0.138292</td>\n",
              "    </tr>\n",
              "  </tbody>\n",
              "</table>\n",
              "<p>96 rows × 6 columns</p>\n",
              "</div>\n",
              "      <button class=\"colab-df-convert\" onclick=\"convertToInteractive('df-3e00b96e-a958-4d95-82b4-c015c4096c66')\"\n",
              "              title=\"Convert this dataframe to an interactive table.\"\n",
              "              style=\"display:none;\">\n",
              "        \n",
              "  <svg xmlns=\"http://www.w3.org/2000/svg\" height=\"24px\"viewBox=\"0 0 24 24\"\n",
              "       width=\"24px\">\n",
              "    <path d=\"M0 0h24v24H0V0z\" fill=\"none\"/>\n",
              "    <path d=\"M18.56 5.44l.94 2.06.94-2.06 2.06-.94-2.06-.94-.94-2.06-.94 2.06-2.06.94zm-11 1L8.5 8.5l.94-2.06 2.06-.94-2.06-.94L8.5 2.5l-.94 2.06-2.06.94zm10 10l.94 2.06.94-2.06 2.06-.94-2.06-.94-.94-2.06-.94 2.06-2.06.94z\"/><path d=\"M17.41 7.96l-1.37-1.37c-.4-.4-.92-.59-1.43-.59-.52 0-1.04.2-1.43.59L10.3 9.45l-7.72 7.72c-.78.78-.78 2.05 0 2.83L4 21.41c.39.39.9.59 1.41.59.51 0 1.02-.2 1.41-.59l7.78-7.78 2.81-2.81c.8-.78.8-2.07 0-2.86zM5.41 20L4 18.59l7.72-7.72 1.47 1.35L5.41 20z\"/>\n",
              "  </svg>\n",
              "      </button>\n",
              "      \n",
              "  <style>\n",
              "    .colab-df-container {\n",
              "      display:flex;\n",
              "      flex-wrap:wrap;\n",
              "      gap: 12px;\n",
              "    }\n",
              "\n",
              "    .colab-df-convert {\n",
              "      background-color: #E8F0FE;\n",
              "      border: none;\n",
              "      border-radius: 50%;\n",
              "      cursor: pointer;\n",
              "      display: none;\n",
              "      fill: #1967D2;\n",
              "      height: 32px;\n",
              "      padding: 0 0 0 0;\n",
              "      width: 32px;\n",
              "    }\n",
              "\n",
              "    .colab-df-convert:hover {\n",
              "      background-color: #E2EBFA;\n",
              "      box-shadow: 0px 1px 2px rgba(60, 64, 67, 0.3), 0px 1px 3px 1px rgba(60, 64, 67, 0.15);\n",
              "      fill: #174EA6;\n",
              "    }\n",
              "\n",
              "    [theme=dark] .colab-df-convert {\n",
              "      background-color: #3B4455;\n",
              "      fill: #D2E3FC;\n",
              "    }\n",
              "\n",
              "    [theme=dark] .colab-df-convert:hover {\n",
              "      background-color: #434B5C;\n",
              "      box-shadow: 0px 1px 3px 1px rgba(0, 0, 0, 0.15);\n",
              "      filter: drop-shadow(0px 1px 2px rgba(0, 0, 0, 0.3));\n",
              "      fill: #FFFFFF;\n",
              "    }\n",
              "  </style>\n",
              "\n",
              "      <script>\n",
              "        const buttonEl =\n",
              "          document.querySelector('#df-3e00b96e-a958-4d95-82b4-c015c4096c66 button.colab-df-convert');\n",
              "        buttonEl.style.display =\n",
              "          google.colab.kernel.accessAllowed ? 'block' : 'none';\n",
              "\n",
              "        async function convertToInteractive(key) {\n",
              "          const element = document.querySelector('#df-3e00b96e-a958-4d95-82b4-c015c4096c66');\n",
              "          const dataTable =\n",
              "            await google.colab.kernel.invokeFunction('convertToInteractive',\n",
              "                                                     [key], {});\n",
              "          if (!dataTable) return;\n",
              "\n",
              "          const docLinkHtml = 'Like what you see? Visit the ' +\n",
              "            '<a target=\"_blank\" href=https://colab.research.google.com/notebooks/data_table.ipynb>data table notebook</a>'\n",
              "            + ' to learn more about interactive tables.';\n",
              "          element.innerHTML = '';\n",
              "          dataTable['output_type'] = 'display_data';\n",
              "          await google.colab.output.renderOutput(dataTable, element);\n",
              "          const docLink = document.createElement('div');\n",
              "          docLink.innerHTML = docLinkHtml;\n",
              "          element.appendChild(docLink);\n",
              "        }\n",
              "      </script>\n",
              "    </div>\n",
              "  </div>\n",
              "  "
            ]
          },
          "metadata": {},
          "execution_count": 121
        }
      ]
    },
    {
      "cell_type": "code",
      "source": [
        "photonplot(trainphoton['lnB2perlnB3'],trainphoton['H'])"
      ],
      "metadata": {
        "colab": {
          "base_uri": "https://localhost:8080/",
          "height": 295
        },
        "id": "K6tW_CmW0mMk",
        "outputId": "b01507ec-7700-45aa-fbb6-6a06e4db5a82"
      },
      "execution_count": null,
      "outputs": [
        {
          "output_type": "display_data",
          "data": {
            "text/plain": [
              "<Figure size 432x288 with 1 Axes>"
            ],
            "image/png": "[encoded data removed]"
          },
          "metadata": {
            "needs_background": "light"
          }
        }
      ]
    },
    {
      "cell_type": "markdown",
      "source": [
        "bathymetry production -- stumpf algorithm for orthometric height of sea floor"
      ],
      "metadata": {
        "id": "vI7xBZ-qB0Jm"
      }
    },
    {
      "cell_type": "code",
      "source": [
        "x_ST = (trainphoton[['lnB2perlnB3']].values).reshape((-1,1)) \n",
        "H = (trainphoton[['H']].values)\n",
        "model_sdb_st = LinearRegression().fit(x_ST,H)\n",
        "print('Stumpf', model_sdb_st.score(x_ST,H), model_sdb_st.intercept_, float(model_sdb_st.coef_) )\n",
        "plt.scatter(x_ST, H, color = 'black')\n",
        "plt.plot(x_ST, model_sdb_st.predict(x_ST), color = 'blue', linewidth = 3)\n",
        "plt.show()"
      ],
      "metadata": {
        "colab": {
          "base_uri": "https://localhost:8080/",
          "height": 282
        },
        "id": "lCamsU-40sj0",
        "outputId": "3be04217-72ac-4e77-a333-598d6970722e"
      },
      "execution_count": null,
      "outputs": [
        {
          "output_type": "stream",
          "name": "stdout",
          "text": [
            "Stumpf 0.8033893125510205 [89.78001397] -98.75695642014475\n"
          ]
        },
        {
          "output_type": "display_data",
          "data": {
            "text/plain": [
              "<Figure size 432x288 with 1 Axes>"
            ],
            "image/png": "[encoded data removed]"
          },
          "metadata": {
            "needs_background": "light"
          }
        }
      ]
    },
    {
      "cell_type": "code",
      "source": [
        "SDB_ST_Depth = ((image.select('lnB2perlnB3')).multiply(float(model_sdb_st.coef_))).add(float(model_sdb_st.intercept_))  \n",
        "#SDB_ST = m0 + m1((ln1000B2)/(ln1000B3))\n",
        "image = image.addBands(SDB_ST_Depth.rename('SDB_ST_HH'))\n",
        "print('Stumpf finish ....')"
      ],
      "metadata": {
        "colab": {
          "base_uri": "https://localhost:8080/"
        },
        "id": "3PtRjEa-01yZ",
        "outputId": "04d8067a-d927-49c6-cf72-2aae72e9a6a9"
      },
      "execution_count": null,
      "outputs": [
        {
          "output_type": "stream",
          "name": "stdout",
          "text": [
            "Stumpf finish ....\n"
          ]
        }
      ]
    },
    {
      "cell_type": "code",
      "source": [
        "############### VISUALIZATION ############################## \n",
        "folium.Map.add_ee_layer = add_ee_layer\n",
        "c = (AOI.centroid().getInfo())['coordinates']\n",
        "map_matched = folium.Map(location=[c[1], c[0]], zoom_start=12)\n",
        "\n",
        "depth_palette = ['blue','cyan', 'green','orange', 'red']\n",
        "\n",
        "map_matched.add_ee_layer(image,{'min':0, 'max':0.3, 'bands':['B4','B3','B2']},'RGB_L2A')\n",
        "map_matched.add_ee_layer(image,{'min':-30, 'max':0, 'bands':['SDB_ST_HH'], 'palette' : depth_palette},'h')\n",
        "\n",
        "display(map_matched.add_child(folium.LayerControl()))"
      ],
      "metadata": {
        "colab": {
          "base_uri": "https://localhost:8080/",
          "height": 735
        },
        "id": "Q0tMlI0s1G04",
        "outputId": "079f002b-7b18-4e7d-8ea4-aaa6d60532d6"
      },
      "execution_count": null,
      "outputs": [
        {
          "output_type": "display_data",
          "data": {
            "text/plain": [
              "<folium.folium.Map at 0x7f56d1831050>"
            ],
            "text/html": [
              "<div style=\"width:100%;\"><div style=\"position:relative;width:100%;height:0;padding-bottom:60%;\"><span style=\"color:#565656\">Make this Notebook Trusted to load map: File -> Trust Notebook</span><iframe srcdoc=\"&lt;!DOCTYPE html&gt;\n",
              "&lt;head&gt;    \n",
              "    &lt;meta http-equiv=&quot;content-type&quot; content=&quot;text/html; charset=UTF-8&quot; /&gt;\n",
              "    &lt;script&gt;L_PREFER_CANVAS=false; L_NO_TOUCH=false; L_DISABLE_3D=false;&lt;/script&gt;\n",
              "    &lt;script src=&quot;https://cdn.jsdelivr.net/npm/leaflet@1.4.0/dist/leaflet.js&quot;&gt;&lt;/script&gt;\n",
              "    &lt;script src=&quot;https://code.jquery.com/jquery-1.12.4.min.js&quot;&gt;&lt;/script&gt;\n",
              "    &lt;script src=&quot;https://maxcdn.bootstrapcdn.com/bootstrap/3.2.0/js/bootstrap.min.js&quot;&gt;&lt;/script&gt;\n",
              "    &lt;script src=&quot;https://cdnjs.cloudflare.com/ajax/libs/Leaflet.awesome-markers/2.0.2/leaflet.awesome-markers.js&quot;&gt;&lt;/script&gt;\n",
              "    &lt;link rel=&quot;stylesheet&quot; href=&quot;https://cdn.jsdelivr.net/npm/leaflet@1.4.0/dist/leaflet.css&quot;/&gt;\n",
              "    &lt;link rel=&quot;stylesheet&quot; href=&quot;https://maxcdn.bootstrapcdn.com/bootstrap/3.2.0/css/bootstrap.min.css&quot;/&gt;\n",
              "    &lt;link rel=&quot;stylesheet&quot; href=&quot;https://maxcdn.bootstrapcdn.com/bootstrap/3.2.0/css/bootstrap-theme.min.css&quot;/&gt;\n",
              "    &lt;link rel=&quot;stylesheet&quot; href=&quot;https://maxcdn.bootstrapcdn.com/font-awesome/4.6.3/css/font-awesome.min.css&quot;/&gt;\n",
              "    &lt;link rel=&quot;stylesheet&quot; href=&quot;https://cdnjs.cloudflare.com/ajax/libs/Leaflet.awesome-markers/2.0.2/leaflet.awesome-markers.css&quot;/&gt;\n",
              "    &lt;link rel=&quot;stylesheet&quot; href=&quot;https://rawcdn.githack.com/python-visualization/folium/master/folium/templates/leaflet.awesome.rotate.css&quot;/&gt;\n",
              "    &lt;style&gt;html, body {width: 100%;height: 100%;margin: 0;padding: 0;}&lt;/style&gt;\n",
              "    &lt;style&gt;#map {position:absolute;top:0;bottom:0;right:0;left:0;}&lt;/style&gt;\n",
              "    \n",
              "    &lt;meta name=&quot;viewport&quot; content=&quot;width=device-width,\n",
              "        initial-scale=1.0, maximum-scale=1.0, user-scalable=no&quot; /&gt;\n",
              "    &lt;style&gt;#map_34a040fb592ffa1e7df4641b9e31c83a {\n",
              "        position: relative;\n",
              "        width: 100.0%;\n",
              "        height: 100.0%;\n",
              "        left: 0.0%;\n",
              "        top: 0.0%;\n",
              "        }\n",
              "    &lt;/style&gt;\n",
              "&lt;/head&gt;\n",
              "&lt;body&gt;    \n",
              "    \n",
              "    &lt;div class=&quot;folium-map&quot; id=&quot;map_34a040fb592ffa1e7df4641b9e31c83a&quot; &gt;&lt;/div&gt;\n",
              "&lt;/body&gt;\n",
              "&lt;script&gt;    \n",
              "    \n",
              "    \n",
              "        var bounds = null;\n",
              "    \n",
              "\n",
              "    var map_34a040fb592ffa1e7df4641b9e31c83a = L.map(\n",
              "        &#x27;map_34a040fb592ffa1e7df4641b9e31c83a&#x27;, {\n",
              "        center: [12.580315013034324, 101.40741500000003],\n",
              "        zoom: 12,\n",
              "        maxBounds: bounds,\n",
              "        layers: [],\n",
              "        worldCopyJump: false,\n",
              "        crs: L.CRS.EPSG3857,\n",
              "        zoomControl: true,\n",
              "        });\n",
              "\n",
              "\n",
              "    \n",
              "    var tile_layer_bfa65cde61d9a608f35b5ee2a3844d93 = L.tileLayer(\n",
              "        &#x27;https://{s}.tile.openstreetmap.org/{z}/{x}/{y}.png&#x27;,\n",
              "        {\n",
              "        &quot;attribution&quot;: null,\n",
              "        &quot;detectRetina&quot;: false,\n",
              "        &quot;maxNativeZoom&quot;: 18,\n",
              "        &quot;maxZoom&quot;: 18,\n",
              "        &quot;minZoom&quot;: 0,\n",
              "        &quot;noWrap&quot;: false,\n",
              "        &quot;opacity&quot;: 1,\n",
              "        &quot;subdomains&quot;: &quot;abc&quot;,\n",
              "        &quot;tms&quot;: false\n",
              "}).addTo(map_34a040fb592ffa1e7df4641b9e31c83a);\n",
              "    var tile_layer_7453095039bc19f564aff7560a2a316b = L.tileLayer(\n",
              "        &#x27;https://earthengine.googleapis.com/v1alpha/projects/earthengine-legacy/maps/034829d09dada9325055be9d48d3eafc-ff48fe647a781baa32479653c5f4f638/tiles/{z}/{x}/{y}&#x27;,\n",
              "        {\n",
              "        &quot;attribution&quot;: &quot;Map Data &amp;copy; &lt;a href=\\&quot;https://earthengine.google.com/\\&quot;&gt;Google Earth Engine&lt;/a&gt;&quot;,\n",
              "        &quot;detectRetina&quot;: false,\n",
              "        &quot;maxNativeZoom&quot;: 18,\n",
              "        &quot;maxZoom&quot;: 18,\n",
              "        &quot;minZoom&quot;: 0,\n",
              "        &quot;noWrap&quot;: false,\n",
              "        &quot;opacity&quot;: 1,\n",
              "        &quot;subdomains&quot;: &quot;abc&quot;,\n",
              "        &quot;tms&quot;: false\n",
              "}).addTo(map_34a040fb592ffa1e7df4641b9e31c83a);\n",
              "    var tile_layer_327cf79031cd702950d42cb95d420d76 = L.tileLayer(\n",
              "        &#x27;https://earthengine.googleapis.com/v1alpha/projects/earthengine-legacy/maps/94a26144f58d3ee18b395f28115af2db-bd0e5ca9c859b229d8b932abede4bf4e/tiles/{z}/{x}/{y}&#x27;,\n",
              "        {\n",
              "        &quot;attribution&quot;: &quot;Map Data &amp;copy; &lt;a href=\\&quot;https://earthengine.google.com/\\&quot;&gt;Google Earth Engine&lt;/a&gt;&quot;,\n",
              "        &quot;detectRetina&quot;: false,\n",
              "        &quot;maxNativeZoom&quot;: 18,\n",
              "        &quot;maxZoom&quot;: 18,\n",
              "        &quot;minZoom&quot;: 0,\n",
              "        &quot;noWrap&quot;: false,\n",
              "        &quot;opacity&quot;: 1,\n",
              "        &quot;subdomains&quot;: &quot;abc&quot;,\n",
              "        &quot;tms&quot;: false\n",
              "}).addTo(map_34a040fb592ffa1e7df4641b9e31c83a);\n",
              "    \n",
              "            var layer_control_e85debffb99a4037f085c9d32cc7452e = {\n",
              "                base_layers : { &quot;openstreetmap&quot; : tile_layer_bfa65cde61d9a608f35b5ee2a3844d93, },\n",
              "                overlays : { &quot;RGB_L2A&quot; : tile_layer_7453095039bc19f564aff7560a2a316b,&quot;h&quot; : tile_layer_327cf79031cd702950d42cb95d420d76, }\n",
              "                };\n",
              "            L.control.layers(\n",
              "                layer_control_e85debffb99a4037f085c9d32cc7452e.base_layers,\n",
              "                layer_control_e85debffb99a4037f085c9d32cc7452e.overlays,\n",
              "                {position: &#x27;topright&#x27;,\n",
              "                 collapsed: true,\n",
              "                 autoZIndex: true\n",
              "                }).addTo(map_34a040fb592ffa1e7df4641b9e31c83a);\n",
              "            \n",
              "        \n",
              "&lt;/script&gt;\" style=\"position:absolute;width:100%;height:100%;left:0;top:0;border:none !important;\" allowfullscreen webkitallowfullscreen mozallowfullscreen></iframe></div></div>"
            ]
          },
          "metadata": {}
        }
      ]
    },
    {
      "cell_type": "code",
      "source": [
        "trainphoton.to_csv('traindepth.csv')"
      ],
      "metadata": {
        "id": "xi1JyelW4gtQ"
      },
      "execution_count": null,
      "outputs": []
    },
    {
      "cell_type": "code",
      "source": [
        "sdb_band = image.select('SDB_ST_HH')\n",
        "\n",
        "task = ee.batch.Export.image.toDrive(**{\n",
        "    'image': sdb_band,\n",
        "    'description': 'icesatonly',\n",
        "    'folder':'Example_folder',\n",
        "    'scale': 10,\n",
        "    'region': AOI.getInfo()['coordinates']\n",
        "})\n",
        "task.start()\n",
        "\n",
        "import time \n",
        "while task.active():\n",
        "  print('Polling for task (id: {}).'.format(task.id))\n",
        "  time.sleep(5)"
      ],
      "metadata": {
        "colab": {
          "base_uri": "https://localhost:8080/"
        },
        "id": "HH-Cqmug15Kd",
        "outputId": "2edeec80-d06b-4e17-fd01-99e4e08e9b3f"
      },
      "execution_count": null,
      "outputs": [
        {
          "output_type": "stream",
          "name": "stdout",
          "text": [
            "Polling for task (id: YHRDHVAMUTS52Z5SGGUB5WLB).\n",
            "Polling for task (id: YHRDHVAMUTS52Z5SGGUB5WLB).\n",
            "Polling for task (id: YHRDHVAMUTS52Z5SGGUB5WLB).\n",
            "Polling for task (id: YHRDHVAMUTS52Z5SGGUB5WLB).\n",
            "Polling for task (id: YHRDHVAMUTS52Z5SGGUB5WLB).\n",
            "Polling for task (id: YHRDHVAMUTS52Z5SGGUB5WLB).\n",
            "Polling for task (id: YHRDHVAMUTS52Z5SGGUB5WLB).\n",
            "Polling for task (id: YHRDHVAMUTS52Z5SGGUB5WLB).\n",
            "Polling for task (id: YHRDHVAMUTS52Z5SGGUB5WLB).\n",
            "Polling for task (id: YHRDHVAMUTS52Z5SGGUB5WLB).\n",
            "Polling for task (id: YHRDHVAMUTS52Z5SGGUB5WLB).\n",
            "Polling for task (id: YHRDHVAMUTS52Z5SGGUB5WLB).\n",
            "Polling for task (id: YHRDHVAMUTS52Z5SGGUB5WLB).\n",
            "Polling for task (id: YHRDHVAMUTS52Z5SGGUB5WLB).\n",
            "Polling for task (id: YHRDHVAMUTS52Z5SGGUB5WLB).\n",
            "Polling for task (id: YHRDHVAMUTS52Z5SGGUB5WLB).\n",
            "Polling for task (id: YHRDHVAMUTS52Z5SGGUB5WLB).\n",
            "Polling for task (id: YHRDHVAMUTS52Z5SGGUB5WLB).\n",
            "Polling for task (id: YHRDHVAMUTS52Z5SGGUB5WLB).\n",
            "Polling for task (id: YHRDHVAMUTS52Z5SGGUB5WLB).\n",
            "Polling for task (id: YHRDHVAMUTS52Z5SGGUB5WLB).\n",
            "Polling for task (id: YHRDHVAMUTS52Z5SGGUB5WLB).\n",
            "Polling for task (id: YHRDHVAMUTS52Z5SGGUB5WLB).\n",
            "Polling for task (id: YHRDHVAMUTS52Z5SGGUB5WLB).\n",
            "Polling for task (id: YHRDHVAMUTS52Z5SGGUB5WLB).\n",
            "Polling for task (id: YHRDHVAMUTS52Z5SGGUB5WLB).\n"
          ]
        }
      ]
    }
  ]
}